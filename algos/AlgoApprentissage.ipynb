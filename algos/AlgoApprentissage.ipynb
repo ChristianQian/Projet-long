{
 "cells": [
  {
   "cell_type": "code",
   "execution_count": 1,
   "metadata": {
    "ExecuteTime": {
     "end_time": "2020-05-11T16:35:13.045613Z",
     "start_time": "2020-05-11T16:35:03.893768Z"
    }
   },
   "outputs": [],
   "source": [
    "import numpy as np\n",
    "import pandas as pd\n",
    "import matplotlib.pyplot as plt\n",
    "import matplotlib.cm as cm\n",
    "import scipy.cluster.hierarchy\n",
    "import seaborn as sns\n",
    "import os\n",
    "import re\n",
    "%matplotlib inline"
   ]
  },
  {
   "cell_type": "code",
   "execution_count": 2,
   "metadata": {
    "ExecuteTime": {
     "end_time": "2020-05-11T16:35:13.117419Z",
     "start_time": "2020-05-11T16:35:13.048636Z"
    }
   },
   "outputs": [
    {
     "data": {
      "text/html": [
       "<div>\n",
       "<style scoped>\n",
       "    .dataframe tbody tr th:only-of-type {\n",
       "        vertical-align: middle;\n",
       "    }\n",
       "\n",
       "    .dataframe tbody tr th {\n",
       "        vertical-align: top;\n",
       "    }\n",
       "\n",
       "    .dataframe thead th {\n",
       "        text-align: right;\n",
       "    }\n",
       "</style>\n",
       "<table border=\"1\" class=\"dataframe\">\n",
       "  <thead>\n",
       "    <tr style=\"text-align: right;\">\n",
       "      <th></th>\n",
       "      <th>X</th>\n",
       "      <th>Y</th>\n",
       "    </tr>\n",
       "  </thead>\n",
       "  <tbody>\n",
       "    <tr>\n",
       "      <th>0</th>\n",
       "      <td>0.0</td>\n",
       "      <td>4.0</td>\n",
       "    </tr>\n",
       "    <tr>\n",
       "      <th>1</th>\n",
       "      <td>1.0</td>\n",
       "      <td>3.5</td>\n",
       "    </tr>\n",
       "    <tr>\n",
       "      <th>2</th>\n",
       "      <td>1.0</td>\n",
       "      <td>1.0</td>\n",
       "    </tr>\n",
       "    <tr>\n",
       "      <th>3</th>\n",
       "      <td>2.0</td>\n",
       "      <td>1.0</td>\n",
       "    </tr>\n",
       "    <tr>\n",
       "      <th>4</th>\n",
       "      <td>2.0</td>\n",
       "      <td>2.0</td>\n",
       "    </tr>\n",
       "    <tr>\n",
       "      <th>5</th>\n",
       "      <td>4.0</td>\n",
       "      <td>4.0</td>\n",
       "    </tr>\n",
       "    <tr>\n",
       "      <th>6</th>\n",
       "      <td>4.0</td>\n",
       "      <td>5.0</td>\n",
       "    </tr>\n",
       "    <tr>\n",
       "      <th>7</th>\n",
       "      <td>4.0</td>\n",
       "      <td>6.0</td>\n",
       "    </tr>\n",
       "    <tr>\n",
       "      <th>8</th>\n",
       "      <td>4.5</td>\n",
       "      <td>1.0</td>\n",
       "    </tr>\n",
       "    <tr>\n",
       "      <th>9</th>\n",
       "      <td>4.5</td>\n",
       "      <td>6.0</td>\n",
       "    </tr>\n",
       "    <tr>\n",
       "      <th>10</th>\n",
       "      <td>5.0</td>\n",
       "      <td>1.0</td>\n",
       "    </tr>\n",
       "    <tr>\n",
       "      <th>11</th>\n",
       "      <td>5.0</td>\n",
       "      <td>5.0</td>\n",
       "    </tr>\n",
       "    <tr>\n",
       "      <th>12</th>\n",
       "      <td>6.0</td>\n",
       "      <td>2.0</td>\n",
       "    </tr>\n",
       "    <tr>\n",
       "      <th>13</th>\n",
       "      <td>7.0</td>\n",
       "      <td>4.0</td>\n",
       "    </tr>\n",
       "  </tbody>\n",
       "</table>\n",
       "</div>"
      ],
      "text/plain": [
       "      X    Y\n",
       "0   0.0  4.0\n",
       "1   1.0  3.5\n",
       "2   1.0  1.0\n",
       "3   2.0  1.0\n",
       "4   2.0  2.0\n",
       "5   4.0  4.0\n",
       "6   4.0  5.0\n",
       "7   4.0  6.0\n",
       "8   4.5  1.0\n",
       "9   4.5  6.0\n",
       "10  5.0  1.0\n",
       "11  5.0  5.0\n",
       "12  6.0  2.0\n",
       "13  7.0  4.0"
      ]
     },
     "execution_count": 2,
     "metadata": {},
     "output_type": "execute_result"
    }
   ],
   "source": [
    "data_2D = pd.read_csv(\"test.csv\")\n",
    "data_2D"
   ]
  },
  {
   "cell_type": "code",
   "execution_count": 3,
   "metadata": {
    "ExecuteTime": {
     "end_time": "2020-05-11T16:35:13.145823Z",
     "start_time": "2020-05-11T16:35:13.120891Z"
    }
   },
   "outputs": [
    {
     "data": {
      "text/html": [
       "<div>\n",
       "<style scoped>\n",
       "    .dataframe tbody tr th:only-of-type {\n",
       "        vertical-align: middle;\n",
       "    }\n",
       "\n",
       "    .dataframe tbody tr th {\n",
       "        vertical-align: top;\n",
       "    }\n",
       "\n",
       "    .dataframe thead th {\n",
       "        text-align: right;\n",
       "    }\n",
       "</style>\n",
       "<table border=\"1\" class=\"dataframe\">\n",
       "  <thead>\n",
       "    <tr style=\"text-align: right;\">\n",
       "      <th></th>\n",
       "      <th>X</th>\n",
       "      <th>Y</th>\n",
       "    </tr>\n",
       "  </thead>\n",
       "  <tbody>\n",
       "    <tr>\n",
       "      <th>0</th>\n",
       "      <td>0.0</td>\n",
       "      <td>3.0</td>\n",
       "    </tr>\n",
       "    <tr>\n",
       "      <th>1</th>\n",
       "      <td>1.0</td>\n",
       "      <td>2.5</td>\n",
       "    </tr>\n",
       "    <tr>\n",
       "      <th>2</th>\n",
       "      <td>1.0</td>\n",
       "      <td>0.0</td>\n",
       "    </tr>\n",
       "    <tr>\n",
       "      <th>3</th>\n",
       "      <td>2.0</td>\n",
       "      <td>0.0</td>\n",
       "    </tr>\n",
       "    <tr>\n",
       "      <th>4</th>\n",
       "      <td>2.0</td>\n",
       "      <td>1.0</td>\n",
       "    </tr>\n",
       "    <tr>\n",
       "      <th>5</th>\n",
       "      <td>4.0</td>\n",
       "      <td>3.0</td>\n",
       "    </tr>\n",
       "    <tr>\n",
       "      <th>6</th>\n",
       "      <td>4.0</td>\n",
       "      <td>4.0</td>\n",
       "    </tr>\n",
       "    <tr>\n",
       "      <th>7</th>\n",
       "      <td>4.0</td>\n",
       "      <td>5.0</td>\n",
       "    </tr>\n",
       "    <tr>\n",
       "      <th>8</th>\n",
       "      <td>4.5</td>\n",
       "      <td>0.0</td>\n",
       "    </tr>\n",
       "    <tr>\n",
       "      <th>9</th>\n",
       "      <td>4.5</td>\n",
       "      <td>5.0</td>\n",
       "    </tr>\n",
       "    <tr>\n",
       "      <th>10</th>\n",
       "      <td>5.0</td>\n",
       "      <td>0.0</td>\n",
       "    </tr>\n",
       "    <tr>\n",
       "      <th>11</th>\n",
       "      <td>5.0</td>\n",
       "      <td>4.0</td>\n",
       "    </tr>\n",
       "    <tr>\n",
       "      <th>12</th>\n",
       "      <td>6.0</td>\n",
       "      <td>1.0</td>\n",
       "    </tr>\n",
       "    <tr>\n",
       "      <th>13</th>\n",
       "      <td>7.0</td>\n",
       "      <td>3.0</td>\n",
       "    </tr>\n",
       "  </tbody>\n",
       "</table>\n",
       "</div>"
      ],
      "text/plain": [
       "      X    Y\n",
       "0   0.0  3.0\n",
       "1   1.0  2.5\n",
       "2   1.0  0.0\n",
       "3   2.0  0.0\n",
       "4   2.0  1.0\n",
       "5   4.0  3.0\n",
       "6   4.0  4.0\n",
       "7   4.0  5.0\n",
       "8   4.5  0.0\n",
       "9   4.5  5.0\n",
       "10  5.0  0.0\n",
       "11  5.0  4.0\n",
       "12  6.0  1.0\n",
       "13  7.0  3.0"
      ]
     },
     "execution_count": 3,
     "metadata": {},
     "output_type": "execute_result"
    }
   ],
   "source": [
    "data_2D - data_2D.min(axis=0)"
   ]
  },
  {
   "cell_type": "code",
   "execution_count": 4,
   "metadata": {
    "ExecuteTime": {
     "end_time": "2020-05-11T16:35:13.156796Z",
     "start_time": "2020-05-11T16:35:13.147819Z"
    }
   },
   "outputs": [
    {
     "data": {
      "text/plain": [
       "X    7.0\n",
       "Y    5.0\n",
       "dtype: float64"
      ]
     },
     "execution_count": 4,
     "metadata": {},
     "output_type": "execute_result"
    }
   ],
   "source": [
    "data_2D.max(axis=0) - data_2D.min(axis=0)"
   ]
  },
  {
   "cell_type": "code",
   "execution_count": 5,
   "metadata": {
    "ExecuteTime": {
     "end_time": "2020-05-11T16:35:13.164778Z",
     "start_time": "2020-05-11T16:35:13.158790Z"
    }
   },
   "outputs": [],
   "source": [
    "def normalisation(df):\n",
    "    return (df - df.min(axis=0)) / (df.max(axis=0) - df.min(axis=0))"
   ]
  },
  {
   "cell_type": "code",
   "execution_count": 6,
   "metadata": {
    "ExecuteTime": {
     "end_time": "2020-05-11T16:35:13.184721Z",
     "start_time": "2020-05-11T16:35:13.167766Z"
    }
   },
   "outputs": [
    {
     "data": {
      "text/html": [
       "<div>\n",
       "<style scoped>\n",
       "    .dataframe tbody tr th:only-of-type {\n",
       "        vertical-align: middle;\n",
       "    }\n",
       "\n",
       "    .dataframe tbody tr th {\n",
       "        vertical-align: top;\n",
       "    }\n",
       "\n",
       "    .dataframe thead th {\n",
       "        text-align: right;\n",
       "    }\n",
       "</style>\n",
       "<table border=\"1\" class=\"dataframe\">\n",
       "  <thead>\n",
       "    <tr style=\"text-align: right;\">\n",
       "      <th></th>\n",
       "      <th>X</th>\n",
       "      <th>Y</th>\n",
       "    </tr>\n",
       "  </thead>\n",
       "  <tbody>\n",
       "    <tr>\n",
       "      <th>0</th>\n",
       "      <td>0.000000</td>\n",
       "      <td>0.6</td>\n",
       "    </tr>\n",
       "    <tr>\n",
       "      <th>1</th>\n",
       "      <td>0.142857</td>\n",
       "      <td>0.5</td>\n",
       "    </tr>\n",
       "    <tr>\n",
       "      <th>2</th>\n",
       "      <td>0.142857</td>\n",
       "      <td>0.0</td>\n",
       "    </tr>\n",
       "    <tr>\n",
       "      <th>3</th>\n",
       "      <td>0.285714</td>\n",
       "      <td>0.0</td>\n",
       "    </tr>\n",
       "    <tr>\n",
       "      <th>4</th>\n",
       "      <td>0.285714</td>\n",
       "      <td>0.2</td>\n",
       "    </tr>\n",
       "    <tr>\n",
       "      <th>5</th>\n",
       "      <td>0.571429</td>\n",
       "      <td>0.6</td>\n",
       "    </tr>\n",
       "    <tr>\n",
       "      <th>6</th>\n",
       "      <td>0.571429</td>\n",
       "      <td>0.8</td>\n",
       "    </tr>\n",
       "    <tr>\n",
       "      <th>7</th>\n",
       "      <td>0.571429</td>\n",
       "      <td>1.0</td>\n",
       "    </tr>\n",
       "    <tr>\n",
       "      <th>8</th>\n",
       "      <td>0.642857</td>\n",
       "      <td>0.0</td>\n",
       "    </tr>\n",
       "    <tr>\n",
       "      <th>9</th>\n",
       "      <td>0.642857</td>\n",
       "      <td>1.0</td>\n",
       "    </tr>\n",
       "    <tr>\n",
       "      <th>10</th>\n",
       "      <td>0.714286</td>\n",
       "      <td>0.0</td>\n",
       "    </tr>\n",
       "    <tr>\n",
       "      <th>11</th>\n",
       "      <td>0.714286</td>\n",
       "      <td>0.8</td>\n",
       "    </tr>\n",
       "    <tr>\n",
       "      <th>12</th>\n",
       "      <td>0.857143</td>\n",
       "      <td>0.2</td>\n",
       "    </tr>\n",
       "    <tr>\n",
       "      <th>13</th>\n",
       "      <td>1.000000</td>\n",
       "      <td>0.6</td>\n",
       "    </tr>\n",
       "  </tbody>\n",
       "</table>\n",
       "</div>"
      ],
      "text/plain": [
       "           X    Y\n",
       "0   0.000000  0.6\n",
       "1   0.142857  0.5\n",
       "2   0.142857  0.0\n",
       "3   0.285714  0.0\n",
       "4   0.285714  0.2\n",
       "5   0.571429  0.6\n",
       "6   0.571429  0.8\n",
       "7   0.571429  1.0\n",
       "8   0.642857  0.0\n",
       "9   0.642857  1.0\n",
       "10  0.714286  0.0\n",
       "11  0.714286  0.8\n",
       "12  0.857143  0.2\n",
       "13  1.000000  0.6"
      ]
     },
     "execution_count": 6,
     "metadata": {},
     "output_type": "execute_result"
    }
   ],
   "source": [
    "norm = normalisation(data_2D)\n",
    "norm"
   ]
  },
  {
   "cell_type": "code",
   "execution_count": 7,
   "metadata": {
    "ExecuteTime": {
     "end_time": "2020-05-11T16:35:13.192699Z",
     "start_time": "2020-05-11T16:35:13.186715Z"
    }
   },
   "outputs": [],
   "source": [
    "def dist_euclidienne(e1, e2):\n",
    "    return np.sqrt(((e2 - e1)**2).sum())"
   ]
  },
  {
   "cell_type": "code",
   "execution_count": 8,
   "metadata": {
    "ExecuteTime": {
     "end_time": "2020-05-11T16:35:13.202673Z",
     "start_time": "2020-05-11T16:35:13.197688Z"
    }
   },
   "outputs": [],
   "source": [
    "assert dist_euclidienne(norm.iloc[0],norm.iloc[7]) == 0.6975174637562116"
   ]
  },
  {
   "cell_type": "code",
   "execution_count": 9,
   "metadata": {
    "ExecuteTime": {
     "end_time": "2020-05-11T16:35:13.210652Z",
     "start_time": "2020-05-11T16:35:13.205664Z"
    }
   },
   "outputs": [],
   "source": [
    "#def centroide(df):\n",
    "#    return (df.sum() / df.shape[0]).to_frame().T"
   ]
  },
  {
   "cell_type": "code",
   "execution_count": 10,
   "metadata": {
    "ExecuteTime": {
     "end_time": "2020-05-11T16:35:13.222620Z",
     "start_time": "2020-05-11T16:35:13.212646Z"
    }
   },
   "outputs": [
    {
     "data": {
      "text/html": [
       "<div>\n",
       "<style scoped>\n",
       "    .dataframe tbody tr th:only-of-type {\n",
       "        vertical-align: middle;\n",
       "    }\n",
       "\n",
       "    .dataframe tbody tr th {\n",
       "        vertical-align: top;\n",
       "    }\n",
       "\n",
       "    .dataframe thead th {\n",
       "        text-align: right;\n",
       "    }\n",
       "</style>\n",
       "<table border=\"1\" class=\"dataframe\">\n",
       "  <thead>\n",
       "    <tr style=\"text-align: right;\">\n",
       "      <th></th>\n",
       "      <th>X</th>\n",
       "      <th>Y</th>\n",
       "    </tr>\n",
       "  </thead>\n",
       "  <tbody>\n",
       "    <tr>\n",
       "      <th>0</th>\n",
       "      <td>0.510204</td>\n",
       "      <td>0.45</td>\n",
       "    </tr>\n",
       "  </tbody>\n",
       "</table>\n",
       "</div>"
      ],
      "text/plain": [
       "          X     Y\n",
       "0  0.510204  0.45"
      ]
     },
     "execution_count": 10,
     "metadata": {},
     "output_type": "execute_result"
    }
   ],
   "source": [
    "centroide(norm)"
   ]
  },
  {
   "cell_type": "code",
   "execution_count": 11,
   "metadata": {
    "ExecuteTime": {
     "end_time": "2020-05-11T16:35:13.231595Z",
     "start_time": "2020-05-11T16:35:13.224614Z"
    }
   },
   "outputs": [],
   "source": [
    "def inertie_cluster(df):\n",
    "    c = centroide(df)\n",
    "    res = 0\n",
    "    for e in df.values:\n",
    "        res += (dist_euclidienne(e, c)**2)\n",
    "    return res.sum()"
   ]
  },
  {
   "cell_type": "code",
   "execution_count": 12,
   "metadata": {
    "ExecuteTime": {
     "end_time": "2020-05-11T16:35:13.300411Z",
     "start_time": "2020-05-11T16:35:13.233590Z"
    }
   },
   "outputs": [
    {
     "data": {
      "text/plain": [
       "2.975991253644315"
      ]
     },
     "execution_count": 12,
     "metadata": {},
     "output_type": "execute_result"
    }
   ],
   "source": [
    "inertie_cluster(norm)"
   ]
  },
  {
   "cell_type": "code",
   "execution_count": 13,
   "metadata": {
    "ExecuteTime": {
     "end_time": "2020-05-11T16:35:13.308389Z",
     "start_time": "2020-05-11T16:35:13.303403Z"
    }
   },
   "outputs": [],
   "source": [
    "def initialisation(K, df):\n",
    "    return df.sample(n=K, axis=0)"
   ]
  },
  {
   "cell_type": "code",
   "execution_count": 14,
   "metadata": {
    "ExecuteTime": {
     "end_time": "2020-05-11T16:35:13.326342Z",
     "start_time": "2020-05-11T16:35:13.310384Z"
    }
   },
   "outputs": [
    {
     "data": {
      "text/html": [
       "<div>\n",
       "<style scoped>\n",
       "    .dataframe tbody tr th:only-of-type {\n",
       "        vertical-align: middle;\n",
       "    }\n",
       "\n",
       "    .dataframe tbody tr th {\n",
       "        vertical-align: top;\n",
       "    }\n",
       "\n",
       "    .dataframe thead th {\n",
       "        text-align: right;\n",
       "    }\n",
       "</style>\n",
       "<table border=\"1\" class=\"dataframe\">\n",
       "  <thead>\n",
       "    <tr style=\"text-align: right;\">\n",
       "      <th></th>\n",
       "      <th>X</th>\n",
       "      <th>Y</th>\n",
       "    </tr>\n",
       "  </thead>\n",
       "  <tbody>\n",
       "    <tr>\n",
       "      <th>1</th>\n",
       "      <td>0.142857</td>\n",
       "      <td>0.5</td>\n",
       "    </tr>\n",
       "    <tr>\n",
       "      <th>10</th>\n",
       "      <td>0.714286</td>\n",
       "      <td>0.0</td>\n",
       "    </tr>\n",
       "    <tr>\n",
       "      <th>12</th>\n",
       "      <td>0.857143</td>\n",
       "      <td>0.2</td>\n",
       "    </tr>\n",
       "  </tbody>\n",
       "</table>\n",
       "</div>"
      ],
      "text/plain": [
       "           X    Y\n",
       "1   0.142857  0.5\n",
       "10  0.714286  0.0\n",
       "12  0.857143  0.2"
      ]
     },
     "execution_count": 14,
     "metadata": {},
     "output_type": "execute_result"
    }
   ],
   "source": [
    "Centroides_test = initialisation(3,norm)\n",
    "Centroides_test"
   ]
  },
  {
   "cell_type": "code",
   "execution_count": 15,
   "metadata": {
    "ExecuteTime": {
     "end_time": "2020-05-11T16:35:13.334321Z",
     "start_time": "2020-05-11T16:35:13.329334Z"
    }
   },
   "outputs": [],
   "source": [
    "def plus_proche(e, df):\n",
    "    res = []\n",
    "    df.apply(lambda x : res.append(dist_euclidienne(x,e)), axis=1)\n",
    "    return res.index(min(res))"
   ]
  },
  {
   "cell_type": "code",
   "execution_count": 16,
   "metadata": {
    "ExecuteTime": {
     "end_time": "2020-05-11T16:35:13.422086Z",
     "start_time": "2020-05-11T16:35:13.337314Z"
    }
   },
   "outputs": [
    {
     "name": "stdout",
     "output_type": "stream",
     "text": [
      "Exemple  0 : ( 0.0 , 0.6 ) est plus proche du centroide 0 : ( 0.14285714285714285 ,  0.5 )\n",
      "Exemple  1 : ( 0.14285714285714285 , 0.5 ) est plus proche du centroide 0 : ( 0.14285714285714285 ,  0.5 )\n",
      "Exemple  2 : ( 0.14285714285714285 , 0.0 ) est plus proche du centroide 0 : ( 0.14285714285714285 ,  0.5 )\n",
      "Exemple  3 : ( 0.2857142857142857 , 0.0 ) est plus proche du centroide 1 : ( 0.7142857142857143 ,  0.0 )\n",
      "Exemple  4 : ( 0.2857142857142857 , 0.2 ) est plus proche du centroide 0 : ( 0.14285714285714285 ,  0.5 )\n",
      "Exemple  5 : ( 0.5714285714285714 , 0.6 ) est plus proche du centroide 0 : ( 0.14285714285714285 ,  0.5 )\n",
      "Exemple  6 : ( 0.5714285714285714 , 0.8 ) est plus proche du centroide 0 : ( 0.14285714285714285 ,  0.5 )\n",
      "Exemple  7 : ( 0.5714285714285714 , 1.0 ) est plus proche du centroide 0 : ( 0.14285714285714285 ,  0.5 )\n",
      "Exemple  8 : ( 0.6428571428571429 , 0.0 ) est plus proche du centroide 1 : ( 0.7142857142857143 ,  0.0 )\n",
      "Exemple  9 : ( 0.6428571428571429 , 1.0 ) est plus proche du centroide 0 : ( 0.14285714285714285 ,  0.5 )\n",
      "Exemple  10 : ( 0.7142857142857143 , 0.0 ) est plus proche du centroide 1 : ( 0.7142857142857143 ,  0.0 )\n",
      "Exemple  11 : ( 0.7142857142857143 , 0.8 ) est plus proche du centroide 2 : ( 0.8571428571428571 ,  0.2 )\n",
      "Exemple  12 : ( 0.8571428571428571 , 0.2 ) est plus proche du centroide 2 : ( 0.8571428571428571 ,  0.2 )\n",
      "Exemple  13 : ( 1.0 , 0.6 ) est plus proche du centroide 2 : ( 0.8571428571428571 ,  0.2 )\n"
     ]
    }
   ],
   "source": [
    "for i in range(0,len(norm)):\n",
    "    pproche = plus_proche(norm.iloc[i],Centroides_test)\n",
    "    print(\"Exemple \",i,\": (\",norm.iloc[i]['X'],\",\", norm.iloc[i]['Y'], \")\",\\\n",
    "          \"est plus proche du centroide\",pproche, \": (\",Centroides_test.iloc[pproche]['X'],\", \", \\\n",
    "          Centroides_test.iloc[pproche]['Y'],\")\")"
   ]
  },
  {
   "cell_type": "code",
   "execution_count": 17,
   "metadata": {
    "ExecuteTime": {
     "end_time": "2020-05-11T16:35:13.432061Z",
     "start_time": "2020-05-11T16:35:13.424079Z"
    }
   },
   "outputs": [],
   "source": [
    "def affecte_cluster(train, c):\n",
    "    dico = dict()\n",
    "    for i in range(len(c.index)):\n",
    "        dico[i] = []\n",
    "    for t in range(len(train.index)):\n",
    "        pp = plus_proche(train.iloc[t],c)\n",
    "        dico[pp].append(t)\n",
    "    return dico"
   ]
  },
  {
   "cell_type": "code",
   "execution_count": 18,
   "metadata": {
    "ExecuteTime": {
     "end_time": "2020-05-11T16:35:13.487910Z",
     "start_time": "2020-05-11T16:35:13.437046Z"
    }
   },
   "outputs": [
    {
     "data": {
      "text/plain": [
       "{0: [0, 1, 2, 4, 5, 6, 7, 9], 1: [3, 8, 10], 2: [11, 12, 13]}"
      ]
     },
     "execution_count": 18,
     "metadata": {},
     "output_type": "execute_result"
    }
   ],
   "source": [
    "DictAffect = affecte_cluster(norm, Centroides_test)\n",
    "DictAffect"
   ]
  },
  {
   "cell_type": "code",
   "execution_count": 19,
   "metadata": {
    "ExecuteTime": {
     "end_time": "2020-05-11T16:35:13.496887Z",
     "start_time": "2020-05-11T16:35:13.490902Z"
    }
   },
   "outputs": [],
   "source": [
    "def nouveaux_centroides(train, m):\n",
    "    l = []\n",
    "    for k in m.keys():\n",
    "        cd = train.iloc[m[k], :]\n",
    "        moys = cd.mean()\n",
    "        l.append(moys)\n",
    "    return pd.DataFrame(l, columns = list(train))"
   ]
  },
  {
   "cell_type": "code",
   "execution_count": 20,
   "metadata": {
    "ExecuteTime": {
     "end_time": "2020-05-11T16:35:13.516832Z",
     "start_time": "2020-05-11T16:35:13.499879Z"
    }
   },
   "outputs": [
    {
     "data": {
      "text/html": [
       "<div>\n",
       "<style scoped>\n",
       "    .dataframe tbody tr th:only-of-type {\n",
       "        vertical-align: middle;\n",
       "    }\n",
       "\n",
       "    .dataframe tbody tr th {\n",
       "        vertical-align: top;\n",
       "    }\n",
       "\n",
       "    .dataframe thead th {\n",
       "        text-align: right;\n",
       "    }\n",
       "</style>\n",
       "<table border=\"1\" class=\"dataframe\">\n",
       "  <thead>\n",
       "    <tr style=\"text-align: right;\">\n",
       "      <th></th>\n",
       "      <th>X</th>\n",
       "      <th>Y</th>\n",
       "    </tr>\n",
       "  </thead>\n",
       "  <tbody>\n",
       "    <tr>\n",
       "      <th>0</th>\n",
       "      <td>0.366071</td>\n",
       "      <td>0.587500</td>\n",
       "    </tr>\n",
       "    <tr>\n",
       "      <th>1</th>\n",
       "      <td>0.547619</td>\n",
       "      <td>0.000000</td>\n",
       "    </tr>\n",
       "    <tr>\n",
       "      <th>2</th>\n",
       "      <td>0.857143</td>\n",
       "      <td>0.533333</td>\n",
       "    </tr>\n",
       "  </tbody>\n",
       "</table>\n",
       "</div>"
      ],
      "text/plain": [
       "          X         Y\n",
       "0  0.366071  0.587500\n",
       "1  0.547619  0.000000\n",
       "2  0.857143  0.533333"
      ]
     },
     "execution_count": 20,
     "metadata": {},
     "output_type": "execute_result"
    }
   ],
   "source": [
    "nouveaux_centroides(norm, DictAffect)"
   ]
  },
  {
   "cell_type": "code",
   "execution_count": 21,
   "metadata": {
    "ExecuteTime": {
     "end_time": "2020-05-11T16:35:13.526804Z",
     "start_time": "2020-05-11T16:35:13.520821Z"
    }
   },
   "outputs": [],
   "source": [
    "def inertie_globale(train, m):\n",
    "    res = 0\n",
    "    for k in m.keys():\n",
    "        cd = train.iloc[m[k], :]\n",
    "        res += inertie_cluster(cd)\n",
    "    return res"
   ]
  },
  {
   "cell_type": "code",
   "execution_count": 22,
   "metadata": {
    "ExecuteTime": {
     "end_time": "2020-05-11T16:35:13.598613Z",
     "start_time": "2020-05-11T16:35:13.529799Z"
    }
   },
   "outputs": [
    {
     "data": {
      "text/plain": [
       "1.6649149659863944"
      ]
     },
     "execution_count": 22,
     "metadata": {},
     "output_type": "execute_result"
    }
   ],
   "source": [
    "inertie_globale(norm,DictAffect)"
   ]
  },
  {
   "cell_type": "code",
   "execution_count": 23,
   "metadata": {
    "ExecuteTime": {
     "end_time": "2020-05-11T16:35:13.617563Z",
     "start_time": "2020-05-11T16:35:13.606594Z"
    }
   },
   "outputs": [],
   "source": [
    "def kmoyennes(K, train, e, iter_max):\n",
    "    p = initialisation(K, train)\n",
    "    m = affecte_cluster(train, p)\n",
    "    p = nouveaux_centroides(train, m)\n",
    "    j = inertie_globale(train, m)\n",
    "    for i in range(iter_max):\n",
    "        m = affecte_cluster(train, p)\n",
    "        p = nouveaux_centroides(train, m)\n",
    "        j2 = inertie_globale(train, m)\n",
    "        dif = np.abs(j2 - j)\n",
    "        print(\"iteration \", i+1 ,\" Inertie : \", j2, \" Difference:\", dif)\n",
    "        if dif < e:\n",
    "            break\n",
    "        j = j2\n",
    "    return p, m"
   ]
  },
  {
   "cell_type": "code",
   "execution_count": 24,
   "metadata": {
    "ExecuteTime": {
     "end_time": "2020-05-11T16:35:13.924317Z",
     "start_time": "2020-05-11T16:35:13.622064Z"
    }
   },
   "outputs": [
    {
     "name": "stdout",
     "output_type": "stream",
     "text": [
      "iteration  1  Inertie :  1.427942176870748  Difference: 0.3912721088435376\n",
      "iteration  2  Inertie :  1.427942176870748  Difference: 0.0\n",
      "Affichage des centres:            X         Y\n",
      "0  0.488095  0.066667\n",
      "1  0.526786  0.737500\n",
      "Affichage des affectations:  {0: [2, 3, 4, 8, 10, 12], 1: [0, 1, 5, 6, 7, 9, 11, 13]}\n"
     ]
    }
   ],
   "source": [
    "les_centres, l_affectation = kmoyennes(2, norm, 0.05, 100)\n",
    "\n",
    "print(\"Affichage des centres: \",les_centres)\n",
    "print(\"Affichage des affectations: \",l_affectation)"
   ]
  },
  {
   "cell_type": "code",
   "execution_count": 25,
   "metadata": {
    "ExecuteTime": {
     "end_time": "2020-05-11T16:35:13.934289Z",
     "start_time": "2020-05-11T16:35:13.926312Z"
    }
   },
   "outputs": [],
   "source": [
    "def affiche_resultat(df, c, m):\n",
    "    colors = cm.rainbow(np.linspace(0, 1, len(m.keys())+1))\n",
    "    for i in m.keys():\n",
    "        x = []\n",
    "        y = []\n",
    "        tab = m[i]\n",
    "        for e in tab:\n",
    "            stock = df.iloc[e]\n",
    "            x.append(stock['X'])\n",
    "            y.append(stock['Y'])\n",
    "        plt.scatter(x, y, color=colors[i])\n",
    "    plt.scatter(c['X'],c['Y'],color=colors[len(m.keys())],marker='x')\n",
    "    plt.show()"
   ]
  },
  {
   "cell_type": "code",
   "execution_count": 26,
   "metadata": {
    "ExecuteTime": {
     "end_time": "2020-05-11T16:35:14.153705Z",
     "start_time": "2020-05-11T16:35:13.937282Z"
    }
   },
   "outputs": [
    {
     "data": {
      "image/png": "[encoded data removed]",
      "text/plain": [
       "<Figure size 432x288 with 1 Axes>"
      ]
     },
     "metadata": {
      "needs_background": "light"
     },
     "output_type": "display_data"
    }
   ],
   "source": [
    "affiche_resultat(norm,les_centres,l_affectation)"
   ]
  },
  {
   "cell_type": "code",
   "execution_count": 27,
   "metadata": {
    "ExecuteTime": {
     "end_time": "2020-05-11T16:35:14.161681Z",
     "start_time": "2020-05-11T16:35:14.155698Z"
    }
   },
   "outputs": [],
   "source": [
    "def dist_manhattan(e1, e2):\n",
    "    return np.abs(e2 - e1).sum()"
   ]
  },
  {
   "cell_type": "code",
   "execution_count": 28,
   "metadata": {
    "ExecuteTime": {
     "end_time": "2020-05-11T16:35:14.170660Z",
     "start_time": "2020-05-11T16:35:14.163678Z"
    }
   },
   "outputs": [],
   "source": [
    "def dist_vect(s, v1, v2):\n",
    "    if s == \"euclidienne\":\n",
    "        return dist_euclidienne(v1, v2)\n",
    "    elif s == \"manhattan\":\n",
    "        return dist_manhattan(v1, v2)"
   ]
  },
  {
   "cell_type": "code",
   "execution_count": 43,
   "metadata": {
    "ExecuteTime": {
     "end_time": "2020-05-11T16:36:07.065131Z",
     "start_time": "2020-05-11T16:36:07.061144Z"
    }
   },
   "outputs": [],
   "source": [
    "def centroide(m):\n",
    "    if isinstance(m,list):\n",
    "        return m[0]\n",
    "    s = np.sum(m, axis=0)\n",
    "    return s / m.shape[0]"
   ]
  },
  {
   "cell_type": "code",
   "execution_count": 30,
   "metadata": {
    "ExecuteTime": {
     "end_time": "2020-05-11T16:35:14.184622Z",
     "start_time": "2020-05-11T16:35:14.178636Z"
    }
   },
   "outputs": [],
   "source": [
    "def dist_groupes(s, gv1, gv2):\n",
    "    cv1 = centroide(gv1)\n",
    "    cv2 = centroide(gv2)\n",
    "    if s == \"euclidienne\":\n",
    "        return dist_euclidienne(cv1, cv2)\n",
    "    elif s == \"manhattan\":\n",
    "        return dist_manhattan(cv1, cv2)"
   ]
  },
  {
   "cell_type": "code",
   "execution_count": 31,
   "metadata": {
    "ExecuteTime": {
     "end_time": "2020-05-11T16:35:14.192599Z",
     "start_time": "2020-05-11T16:35:14.186616Z"
    }
   },
   "outputs": [],
   "source": [
    "def initialise(M):\n",
    "    dico = dict()\n",
    "    for i in range(M.shape[0]):\n",
    "        dico[i] = [M.iloc[i]]\n",
    "    return dico"
   ]
  },
  {
   "cell_type": "code",
   "execution_count": 32,
   "metadata": {
    "ExecuteTime": {
     "end_time": "2020-05-11T16:35:14.217535Z",
     "start_time": "2020-05-11T16:35:14.194595Z"
    }
   },
   "outputs": [
    {
     "name": "stdout",
     "output_type": "stream",
     "text": [
      "{0: [X    0.0\n",
      "Y    0.6\n",
      "Name: 0, dtype: float64], 1: [X    0.142857\n",
      "Y    0.500000\n",
      "Name: 1, dtype: float64], 2: [X    0.142857\n",
      "Y    0.000000\n",
      "Name: 2, dtype: float64], 3: [X    0.285714\n",
      "Y    0.000000\n",
      "Name: 3, dtype: float64], 4: [X    0.285714\n",
      "Y    0.200000\n",
      "Name: 4, dtype: float64], 5: [X    0.571429\n",
      "Y    0.600000\n",
      "Name: 5, dtype: float64], 6: [X    0.571429\n",
      "Y    0.800000\n",
      "Name: 6, dtype: float64], 7: [X    0.571429\n",
      "Y    1.000000\n",
      "Name: 7, dtype: float64], 8: [X    0.642857\n",
      "Y    0.000000\n",
      "Name: 8, dtype: float64], 9: [X    0.642857\n",
      "Y    1.000000\n",
      "Name: 9, dtype: float64], 10: [X    0.714286\n",
      "Y    0.000000\n",
      "Name: 10, dtype: float64], 11: [X    0.714286\n",
      "Y    0.800000\n",
      "Name: 11, dtype: float64], 12: [X    0.857143\n",
      "Y    0.200000\n",
      "Name: 12, dtype: float64], 13: [X    1.0\n",
      "Y    0.6\n",
      "Name: 13, dtype: float64]}\n"
     ]
    }
   ],
   "source": [
    "print(initialise(norm))"
   ]
  },
  {
   "cell_type": "code",
   "execution_count": 33,
   "metadata": {
    "ExecuteTime": {
     "end_time": "2020-05-11T16:35:14.231496Z",
     "start_time": "2020-05-11T16:35:14.220525Z"
    }
   },
   "outputs": [],
   "source": [
    "def fusionne(s, dic):\n",
    "    k = list(dic.keys())\n",
    "    res = dic\n",
    "    c1 = 0\n",
    "    c2 = 0\n",
    "    d = float('inf')\n",
    "    for i in dic.keys():\n",
    "        for j in dic.keys():\n",
    "            if i == j:\n",
    "                continue\n",
    "            db = dist_groupes(s, dic[i], dic[j])\n",
    "            if db < d:\n",
    "                #print(\"db \", db, \"dic i \", dic[i], \"dic j \", dic[j])\n",
    "                c1 = i\n",
    "                c2 = j\n",
    "                d = db\n",
    "    print(\"Fusion de \",c1,\" et \",c2,\"pour une distance de \",d)\n",
    "    m = max(dic.keys())+1\n",
    "    # l = res.pop(c1) + res.pop(c2)\n",
    "    #l = res[c1] + res[c2]\n",
    "    #print(\"test res c1 \",res[c1],\"test res c2 \",res[c2])\n",
    "    l = np.concatenate([res[c1], res[c2]])\n",
    "    del res[c1]\n",
    "    del res[c2]\n",
    "    res[m] = l\n",
    "    #print(res)\n",
    "    return (res, c1, c2, d)"
   ]
  },
  {
   "cell_type": "code",
   "execution_count": 34,
   "metadata": {
    "ExecuteTime": {
     "end_time": "2020-05-11T16:35:14.243463Z",
     "start_time": "2020-05-11T16:35:14.234488Z"
    }
   },
   "outputs": [],
   "source": [
    "def clustering_hierarchique(train, s):\n",
    "    courant = initialise(train)       # clustering courant, au départ:s données data_2D normalisées\n",
    "    M_Fusion = []                        # initialisation\n",
    "    while len(courant) >=2:              # tant qu'il y a 2 groupes à fusionner\n",
    "        new,k1,k2,dist_min = fusionne(s,courant)\n",
    "        if(len(M_Fusion)==0):\n",
    "            M_Fusion = [k1,k2,dist_min,2]\n",
    "        else:\n",
    "            M_Fusion = np.vstack( [M_Fusion,[k1,k2,dist_min,2] ])\n",
    "        courant = new\n",
    "        \n",
    "    plt.figure(figsize=(30, 15)) # taille : largeur x hauteur\n",
    "    plt.title('Dendrogramme', fontsize=25)    \n",
    "    plt.xlabel('Exemple', fontsize=25)\n",
    "    plt.ylabel('Distance', fontsize=25)\n",
    "\n",
    "    # Construction du dendrogramme à partir de la matrice M_Fusion:\n",
    "    scipy.cluster.hierarchy.dendrogram(\n",
    "        M_Fusion,\n",
    "        leaf_font_size=18.,  # taille des caractères de l'axe des X\n",
    "    )\n",
    "    plt.show()\n",
    "    return M_Fusion"
   ]
  },
  {
   "cell_type": "code",
   "execution_count": 44,
   "metadata": {
    "ExecuteTime": {
     "end_time": "2020-05-11T16:36:34.327485Z",
     "start_time": "2020-05-11T16:36:33.630221Z"
    }
   },
   "outputs": [
    {
     "name": "stdout",
     "output_type": "stream",
     "text": [
      "Fusion de  8  et  10 pour une distance de  0.0714285714285714\n",
      "Fusion de  7  et  9 pour une distance de  0.07142857142857151\n",
      "Fusion de  2  et  3 pour une distance de  0.14285714285714285\n",
      "Fusion de  6  et  11 pour une distance de  0.1428571428571429\n",
      "Fusion de  15  et  17 pour une distance de  0.23571428571428554\n",
      "Fusion de  0  et  1 pour une distance de  0.24285714285714283\n",
      "Fusion de  4  et  16 pour une distance de  0.27142857142857146\n",
      "Fusion de  5  et  18 pour une distance de  0.35357142857142854\n",
      "Fusion de  12  et  14 pour une distance de  0.3785714285714285\n",
      "Fusion de  20  et  22 pour une distance de  0.5000000000000001\n",
      "Fusion de  13  et  21 pour une distance de  0.6257142857142859\n",
      "Fusion de  19  et  24 pour une distance de  0.857142857142857\n",
      "Fusion de  23  et  25 pour une distance de  0.7095238095238097\n"
     ]
    },
    {
     "data": {
      "image/png": "[encoded data removed]",
      "text/plain": [
       "<Figure size 2160x1080 with 1 Axes>"
      ]
     },
     "metadata": {
      "needs_background": "light"
     },
     "output_type": "display_data"
    },
    {
     "data": {
      "text/plain": [
       "array([[ 8.        , 10.        ,  0.07142857,  2.        ],\n",
       "       [ 7.        ,  9.        ,  0.07142857,  2.        ],\n",
       "       [ 2.        ,  3.        ,  0.14285714,  2.        ],\n",
       "       [ 6.        , 11.        ,  0.14285714,  2.        ],\n",
       "       [15.        , 17.        ,  0.23571429,  2.        ],\n",
       "       [ 0.        ,  1.        ,  0.24285714,  2.        ],\n",
       "       [ 4.        , 16.        ,  0.27142857,  2.        ],\n",
       "       [ 5.        , 18.        ,  0.35357143,  2.        ],\n",
       "       [12.        , 14.        ,  0.37857143,  2.        ],\n",
       "       [20.        , 22.        ,  0.5       ,  2.        ],\n",
       "       [13.        , 21.        ,  0.62571429,  2.        ],\n",
       "       [19.        , 24.        ,  0.85714286,  2.        ],\n",
       "       [23.        , 25.        ,  0.70952381,  2.        ]])"
      ]
     },
     "execution_count": 44,
     "metadata": {},
     "output_type": "execute_result"
    }
   ],
   "source": [
    "clustering_hierarchique(norm, 'manhattan')"
   ]
  },
  {
   "cell_type": "code",
   "execution_count": 45,
   "metadata": {
    "ExecuteTime": {
     "end_time": "2020-05-11T16:36:36.281493Z",
     "start_time": "2020-05-11T16:36:35.604910Z"
    }
   },
   "outputs": [
    {
     "name": "stdout",
     "output_type": "stream",
     "text": [
      "Fusion de  8  et  10 pour une distance de  0.0714285714285714\n",
      "Fusion de  7  et  9 pour une distance de  0.07142857142857151\n",
      "Fusion de  2  et  3 pour une distance de  0.14285714285714285\n",
      "Fusion de  6  et  11 pour une distance de  0.1428571428571429\n",
      "Fusion de  0  et  1 pour une distance de  0.17437936593905287\n",
      "Fusion de  15  et  17 pour une distance de  0.20316375219039837\n",
      "Fusion de  4  et  16 pour une distance de  0.21237241067597867\n",
      "Fusion de  12  et  14 pour une distance de  0.26811891970176366\n",
      "Fusion de  5  et  19 pour une distance de  0.3047456282855976\n",
      "Fusion de  13  et  22 pour une distance de  0.4542857142857144\n",
      "Fusion de  20  et  21 pour une distance de  0.5000000000000001\n",
      "Fusion de  18  et  24 pour une distance de  0.638139657302555\n",
      "Fusion de  23  et  25 pour une distance de  0.6796842379114776\n"
     ]
    },
    {
     "data": {
      "image/png": "[encoded data removed]",
      "text/plain": [
       "<Figure size 2160x1080 with 1 Axes>"
      ]
     },
     "metadata": {
      "needs_background": "light"
     },
     "output_type": "display_data"
    },
    {
     "data": {
      "text/plain": [
       "array([[ 8.        , 10.        ,  0.07142857,  2.        ],\n",
       "       [ 7.        ,  9.        ,  0.07142857,  2.        ],\n",
       "       [ 2.        ,  3.        ,  0.14285714,  2.        ],\n",
       "       [ 6.        , 11.        ,  0.14285714,  2.        ],\n",
       "       [ 0.        ,  1.        ,  0.17437937,  2.        ],\n",
       "       [15.        , 17.        ,  0.20316375,  2.        ],\n",
       "       [ 4.        , 16.        ,  0.21237241,  2.        ],\n",
       "       [12.        , 14.        ,  0.26811892,  2.        ],\n",
       "       [ 5.        , 19.        ,  0.30474563,  2.        ],\n",
       "       [13.        , 22.        ,  0.45428571,  2.        ],\n",
       "       [20.        , 21.        ,  0.5       ,  2.        ],\n",
       "       [18.        , 24.        ,  0.63813966,  2.        ],\n",
       "       [23.        , 25.        ,  0.67968424,  2.        ]])"
      ]
     },
     "execution_count": 45,
     "metadata": {},
     "output_type": "execute_result"
    }
   ],
   "source": [
    "clustering_hierarchique(norm, 'euclidienne')"
   ]
  },
  {
   "cell_type": "code",
   "execution_count": 46,
   "metadata": {
    "ExecuteTime": {
     "end_time": "2020-05-11T16:36:36.310439Z",
     "start_time": "2020-05-11T16:36:36.283489Z"
    }
   },
   "outputs": [],
   "source": [
    "data411 = pd.concat([pd.read_csv('../data/04-11_3.csv', sep=';'), pd.read_csv('../data/04-11_4.csv', sep=';'),\n",
    "                    pd.read_csv('../data/04-11_5.csv', sep=';'), pd.read_csv('../data/04-11_6.csv', sep=';'),\n",
    "                    pd.read_csv('../data/04-11_7.csv', sep=';')])"
   ]
  },
  {
   "cell_type": "code",
   "execution_count": 47,
   "metadata": {
    "ExecuteTime": {
     "end_time": "2020-05-11T16:36:36.462144Z",
     "start_time": "2020-05-11T16:36:36.445190Z"
    }
   },
   "outputs": [
    {
     "data": {
      "text/html": [
       "<div>\n",
       "<style scoped>\n",
       "    .dataframe tbody tr th:only-of-type {\n",
       "        vertical-align: middle;\n",
       "    }\n",
       "\n",
       "    .dataframe tbody tr th {\n",
       "        vertical-align: top;\n",
       "    }\n",
       "\n",
       "    .dataframe thead th {\n",
       "        text-align: right;\n",
       "    }\n",
       "</style>\n",
       "<table border=\"1\" class=\"dataframe\">\n",
       "  <thead>\n",
       "    <tr style=\"text-align: right;\">\n",
       "      <th></th>\n",
       "      <th>Jour</th>\n",
       "      <th>Mois</th>\n",
       "      <th>Heure</th>\n",
       "      <th>Minutes</th>\n",
       "      <th>Secondes</th>\n",
       "      <th>Lieu</th>\n",
       "      <th>Couloir</th>\n",
       "      <th>Temperature</th>\n",
       "      <th>Humidite</th>\n",
       "      <th>Particules</th>\n",
       "      <th>Qualite</th>\n",
       "      <th>Son</th>\n",
       "    </tr>\n",
       "  </thead>\n",
       "  <tbody>\n",
       "    <tr>\n",
       "      <th>0</th>\n",
       "      <td>11</td>\n",
       "      <td>4</td>\n",
       "      <td>22</td>\n",
       "      <td>25</td>\n",
       "      <td>0</td>\n",
       "      <td>3</td>\n",
       "      <td>0</td>\n",
       "      <td>25.0</td>\n",
       "      <td>47.0</td>\n",
       "      <td>0.0</td>\n",
       "      <td>123</td>\n",
       "      <td>72</td>\n",
       "    </tr>\n",
       "    <tr>\n",
       "      <th>1</th>\n",
       "      <td>11</td>\n",
       "      <td>4</td>\n",
       "      <td>22</td>\n",
       "      <td>25</td>\n",
       "      <td>0</td>\n",
       "      <td>3</td>\n",
       "      <td>0</td>\n",
       "      <td>25.0</td>\n",
       "      <td>47.0</td>\n",
       "      <td>0.0</td>\n",
       "      <td>23</td>\n",
       "      <td>72</td>\n",
       "    </tr>\n",
       "    <tr>\n",
       "      <th>2</th>\n",
       "      <td>11</td>\n",
       "      <td>4</td>\n",
       "      <td>22</td>\n",
       "      <td>25</td>\n",
       "      <td>0</td>\n",
       "      <td>3</td>\n",
       "      <td>0</td>\n",
       "      <td>24.0</td>\n",
       "      <td>47.0</td>\n",
       "      <td>0.0</td>\n",
       "      <td>23</td>\n",
       "      <td>72</td>\n",
       "    </tr>\n",
       "    <tr>\n",
       "      <th>3</th>\n",
       "      <td>11</td>\n",
       "      <td>4</td>\n",
       "      <td>22</td>\n",
       "      <td>25</td>\n",
       "      <td>0</td>\n",
       "      <td>3</td>\n",
       "      <td>0</td>\n",
       "      <td>24.0</td>\n",
       "      <td>47.0</td>\n",
       "      <td>0.0</td>\n",
       "      <td>22</td>\n",
       "      <td>72</td>\n",
       "    </tr>\n",
       "    <tr>\n",
       "      <th>4</th>\n",
       "      <td>11</td>\n",
       "      <td>4</td>\n",
       "      <td>22</td>\n",
       "      <td>25</td>\n",
       "      <td>0</td>\n",
       "      <td>3</td>\n",
       "      <td>0</td>\n",
       "      <td>24.0</td>\n",
       "      <td>47.0</td>\n",
       "      <td>0.0</td>\n",
       "      <td>23</td>\n",
       "      <td>72</td>\n",
       "    </tr>\n",
       "  </tbody>\n",
       "</table>\n",
       "</div>"
      ],
      "text/plain": [
       "   Jour  Mois  Heure  Minutes  Secondes  Lieu  Couloir  Temperature  Humidite  \\\n",
       "0    11     4     22       25         0     3        0         25.0      47.0   \n",
       "1    11     4     22       25         0     3        0         25.0      47.0   \n",
       "2    11     4     22       25         0     3        0         24.0      47.0   \n",
       "3    11     4     22       25         0     3        0         24.0      47.0   \n",
       "4    11     4     22       25         0     3        0         24.0      47.0   \n",
       "\n",
       "   Particules  Qualite  Son  \n",
       "0         0.0      123   72  \n",
       "1         0.0       23   72  \n",
       "2         0.0       23   72  \n",
       "3         0.0       22   72  \n",
       "4         0.0       23   72  "
      ]
     },
     "execution_count": 47,
     "metadata": {},
     "output_type": "execute_result"
    }
   ],
   "source": [
    "data411.head()"
   ]
  },
  {
   "cell_type": "code",
   "execution_count": 48,
   "metadata": {
    "ExecuteTime": {
     "end_time": "2020-05-11T16:36:37.547889Z",
     "start_time": "2020-05-11T16:36:37.198796Z"
    }
   },
   "outputs": [
    {
     "data": {
      "text/plain": [
       "<matplotlib.axes._subplots.AxesSubplot at 0x1c4c1797fc8>"
      ]
     },
     "execution_count": 48,
     "metadata": {},
     "output_type": "execute_result"
    },
    {
     "data": {
      "image/png": "[encoded data removed]",
      "text/plain": [
       "<Figure size 792x648 with 2 Axes>"
      ]
     },
     "metadata": {
      "needs_background": "light"
     },
     "output_type": "display_data"
    }
   ],
   "source": [
    "# Compute the correlation matrix\n",
    "corr = data411.corr()\n",
    "\n",
    "# Generate a mask for the upper triangle\n",
    "mask = np.triu(np.ones_like(corr, dtype=np.bool))\n",
    "\n",
    "# Set up the matplotlib figure\n",
    "f, ax = plt.subplots(figsize=(11, 9))\n",
    "\n",
    "# Generate a custom diverging colormap\n",
    "cmap = sns.diverging_palette(220, 10, as_cmap=True)\n",
    "\n",
    "# Draw the heatmap with the mask and correct aspect ratio\n",
    "sns.heatmap(corr, mask=mask, cmap=cmap, vmax=.3, center=0,\n",
    "            square=True, linewidths=.5, cbar_kws={\"shrink\": .5})"
   ]
  },
  {
   "cell_type": "code",
   "execution_count": 49,
   "metadata": {
    "ExecuteTime": {
     "end_time": "2020-05-11T16:36:37.693415Z",
     "start_time": "2020-05-11T16:36:37.684401Z"
    }
   },
   "outputs": [
    {
     "name": "stdout",
     "output_type": "stream",
     "text": [
      "             Jour  Mois     Heure   Minutes  Secondes      Lieu   Couloir  \\\n",
      "Jour          NaN   NaN       NaN       NaN       NaN       NaN       NaN   \n",
      "Mois          NaN   NaN       NaN       NaN       NaN       NaN       NaN   \n",
      "Heure         NaN   NaN  1.000000 -0.011204       NaN  0.279922  0.544815   \n",
      "Minutes       NaN   NaN -0.011204  1.000000       NaN -0.330199 -0.646241   \n",
      "Secondes      NaN   NaN       NaN       NaN       NaN       NaN       NaN   \n",
      "Lieu          NaN   NaN  0.279922 -0.330199       NaN  1.000000  0.784855   \n",
      "Couloir       NaN   NaN  0.544815 -0.646241       NaN  0.784855  1.000000   \n",
      "Temperature   NaN   NaN  0.429272 -0.560422       NaN  0.063561  0.577044   \n",
      "Humidite      NaN   NaN -0.106633 -0.587153       NaN  0.333868  0.215334   \n",
      "Particules    NaN   NaN -0.051838  0.134567       NaN -0.132103 -0.133805   \n",
      "Qualite       NaN   NaN -0.576394 -0.498262       NaN  0.138875  0.090385   \n",
      "Son           NaN   NaN  0.680897 -0.253724       NaN  0.256416  0.588103   \n",
      "\n",
      "             Temperature  Humidite  Particules   Qualite       Son  \n",
      "Jour                 NaN       NaN         NaN       NaN       NaN  \n",
      "Mois                 NaN       NaN         NaN       NaN       NaN  \n",
      "Heure           0.429272 -0.106633   -0.051838 -0.576394  0.680897  \n",
      "Minutes        -0.560422 -0.587153    0.134567 -0.498262 -0.253724  \n",
      "Secondes             NaN       NaN         NaN       NaN       NaN  \n",
      "Lieu            0.063561  0.333868   -0.132103  0.138875  0.256416  \n",
      "Couloir         0.577044  0.215334   -0.133805  0.090385  0.588103  \n",
      "Temperature     1.000000 -0.044784   -0.046953 -0.043892  0.592666  \n",
      "Humidite       -0.044784  1.000000   -0.101615  0.425076 -0.190395  \n",
      "Particules     -0.046953 -0.101615    1.000000 -0.032891 -0.038408  \n",
      "Qualite        -0.043892  0.425076   -0.032891  1.000000 -0.526152  \n",
      "Son             0.592666 -0.190395   -0.038408 -0.526152  1.000000  \n"
     ]
    }
   ],
   "source": [
    "print(corr)"
   ]
  },
  {
   "cell_type": "code",
   "execution_count": 50,
   "metadata": {
    "ExecuteTime": {
     "end_time": "2020-05-11T16:36:38.322655Z",
     "start_time": "2020-05-11T16:36:38.305510Z"
    },
    "scrolled": false
   },
   "outputs": [
    {
     "name": "stdout",
     "output_type": "stream",
     "text": [
      "      Jour  Mois  Heure  Minutes  Secondes  Lieu  Couloir  Temperature  \\\n",
      "0       11     4     22       25         0     3        0         25.0   \n",
      "1       11     4     22       25         0     3        0         25.0   \n",
      "2       11     4     22       25         0     3        0         24.0   \n",
      "3       11     4     22       25         0     3        0         24.0   \n",
      "4       11     4     22       25         0     3        0         24.0   \n",
      "...    ...   ...    ...      ...       ...   ...      ...          ...   \n",
      "3844    11     4     23       25         0     7        1         25.0   \n",
      "3845    11     4     23       25         0     7        1         25.0   \n",
      "3846    11     4     23       25         0     7        1         25.0   \n",
      "3847    11     4     23       25         0     7        1         25.0   \n",
      "3848    11     4     23       25         0     7        1         25.0   \n",
      "\n",
      "      Humidite  Particules  Qualite  Son  \n",
      "0         47.0        0.00      123   72  \n",
      "1         47.0        0.00       23   72  \n",
      "2         47.0        0.00       23   72  \n",
      "3         47.0        0.00       22   72  \n",
      "4         47.0        0.00       23   72  \n",
      "...        ...         ...      ...  ...  \n",
      "3844      42.0        0.62       19   79  \n",
      "3845      42.0        0.62       20   79  \n",
      "3846      42.0        0.62       20   79  \n",
      "3847      42.0        0.62       18   79  \n",
      "3848      42.0        0.62       18   79  \n",
      "\n",
      "[9458 rows x 12 columns]\n"
     ]
    }
   ],
   "source": [
    "print(data411)"
   ]
  },
  {
   "cell_type": "code",
   "execution_count": 51,
   "metadata": {
    "ExecuteTime": {
     "end_time": "2020-05-11T16:36:39.308214Z",
     "start_time": "2020-05-11T16:36:38.873351Z"
    }
   },
   "outputs": [],
   "source": [
    "def __mask(df, key, i):\n",
    "    m = tmp_listval[i]\n",
    "    sd = tmp_std[i]\n",
    "    return df[(df[key] <= m + sd) & (df[key] >= m - sd)]\n",
    "\n",
    "listeData = []\n",
    "listeFiles = os.listdir(\"../data/\")\n",
    "listeDates = []\n",
    "\n",
    "i = 0\n",
    "for e in listeFiles:\n",
    "    if e == 'SG':\n",
    "        continue\n",
    "    searchName = re.search(r\"([0-9]+-[0-9]+)_[0-9]+\\.\\w+\", e)\n",
    "    if searchName.group(1) not in listeDates:\n",
    "        listeDates.append(searchName.group(1))\n",
    "    tmp_file = pd.read_csv(\"../data/\" + e, sep=';')\n",
    "    tmp_file = tmp_file.dropna(axis='rows')\n",
    "\n",
    "    # print(tmp_file.head())\n",
    "\n",
    "    tmp_listval = []\n",
    "    tmp_listval.append(tmp_file['Temperature'].mean())\n",
    "    tmp_listval.append(tmp_file['Humidite'].mean())\n",
    "    tmp_listval.append(tmp_file['Particules'].mean())\n",
    "    tmp_listval.append(tmp_file['Qualite'].mean())\n",
    "    tmp_listval.append(tmp_file['Son'].mean())\n",
    "\n",
    "    tmp_std = []\n",
    "    tmp_std.append(tmp_file['Temperature'].std())\n",
    "    tmp_std.append(tmp_file['Humidite'].std())\n",
    "    tmp_std.append(tmp_file['Particules'].std())\n",
    "    tmp_std.append(tmp_file['Qualite'].std())\n",
    "    tmp_std.append(tmp_file['Son'].std())\n",
    "\n",
    "    tmp_file = __mask(tmp_file, 'Temperature', 0)\n",
    "    tmp_file = __mask(tmp_file, 'Humidite', 1)\n",
    "    tmp_file = __mask(tmp_file, 'Particules', 2)\n",
    "    tmp_file = __mask(tmp_file, 'Qualite', 3)\n",
    "    tmp_file = __mask(tmp_file, 'Son', 4)\n",
    "\n",
    "    tmp_listval = []\n",
    "    tmp_file.reset_index()\n",
    "    tmp_listval.append(tmp_file.iloc[0].Jour)\n",
    "    tmp_listval.append(tmp_file.iloc[0].Mois)\n",
    "    tmp_listval.append(tmp_file.iloc[0].Heure)\n",
    "    tmp_listval.append(tmp_file.iloc[0].Minutes)\n",
    "    tmp_listval.append(tmp_file.iloc[0].Secondes)\n",
    "    tmp_listval.append(tmp_file.iloc[0].Lieu)\n",
    "    tmp_listval.append(tmp_file.iloc[0].Couloir)\n",
    "    tmp_listval.append(tmp_file['Temperature'].mean())\n",
    "    tmp_listval.append(tmp_file['Humidite'].mean())\n",
    "    tmp_listval.append(tmp_file['Particules'].mean())\n",
    "    tmp_listval.append(tmp_file['Qualite'].mean())\n",
    "    tmp_listval.append(tmp_file['Son'].mean()) \n",
    "\n",
    "    listeData.append(tmp_listval)\n",
    "\n",
    "listeData = pd.DataFrame(listeData, columns=['Jour', 'Mois', 'Heure', 'Minutes', 'Secondes', 'Lieu',\n",
    "                                                               'Couloir', 'Temperature', 'Humidite', 'Particules',\n",
    "                                                               'Qualite', 'Son'])\n",
    "listeData['Couloir'] = listeData['Couloir'].astype(bool)\n",
    "listeData[['Jour', 'Mois', 'Heure', 'Minutes', 'Secondes', 'Lieu']] = \\\n",
    "    listeData[['Jour', 'Mois', 'Heure', 'Minutes', 'Secondes', 'Lieu']].astype(np.int32)\n",
    "listeData[['Temperature', 'Humidite', 'Particules', 'Qualite', 'Son']] = \\\n",
    "    listeData[['Temperature', 'Humidite', 'Particules', 'Qualite', 'Son']].astype(np.float64)\n"
   ]
  },
  {
   "cell_type": "code",
   "execution_count": 52,
   "metadata": {
    "ExecuteTime": {
     "end_time": "2020-05-11T16:36:39.615438Z",
     "start_time": "2020-05-11T16:36:39.310210Z"
    }
   },
   "outputs": [
    {
     "data": {
      "image/png": "[encoded data removed]",
      "text/plain": [
       "<Figure size 792x648 with 2 Axes>"
      ]
     },
     "metadata": {
      "needs_background": "light"
     },
     "output_type": "display_data"
    }
   ],
   "source": [
    "corrmoy = listeData.corr()\n",
    "mask = np.triu(np.ones_like(corr, dtype=np.bool))\n",
    "\n",
    "# Set up the matplotlib figure\n",
    "f, ax = plt.subplots(figsize=(11, 9))\n",
    "\n",
    "# Generate a custom diverging colormap\n",
    "cmap = sns.diverging_palette(220, 10, as_cmap=True)\n",
    "\n",
    "# Draw the heatmap with the mask and correct aspect ratio\n",
    "sns.heatmap(corr, mask=mask, cmap=cmap, vmax=.3, center=0,\n",
    "            square=True, linewidths=.5, cbar_kws={\"shrink\": .5})\n",
    "\n",
    "plt.show()"
   ]
  },
  {
   "cell_type": "code",
   "execution_count": 53,
   "metadata": {
    "ExecuteTime": {
     "end_time": "2020-05-11T16:36:39.834766Z",
     "start_time": "2020-05-11T16:36:39.824333Z"
    }
   },
   "outputs": [
    {
     "name": "stdout",
     "output_type": "stream",
     "text": [
      "    Jour  Mois  Heure  Minutes  Secondes  Lieu  Couloir  Temperature   Humidite  Particules    Qualite        Son\n",
      "0     11     4     22       25         0     3    False    25.000000  46.000000   23.534508  19.651639  73.737705\n",
      "1     11     4     22       50         0     4    False    25.000000  33.485356   44.036485  10.887029  74.146444\n",
      "2     11     4     15       25         0     5    False    24.000000  44.577320   18.476460  41.838488  66.350515\n",
      "3     11     4     21       45         0     6    False    24.000000  44.770161    7.499698  15.268145  71.419355\n",
      "4     11     4     23       25         0     7     True    25.000000  43.610834   19.553721  21.385602  77.131860\n",
      "5     12     4      0       50         0     1    False    23.564246  46.322626   19.571536  13.000000  75.177374\n",
      "6     15     4     20       10         0     3    False    23.000000  37.000000   25.889782  20.318769  72.785501\n",
      "7     15     4     21       10         0     4    False    23.000000  28.871705    9.949279  12.224077  75.533392\n",
      "8     15     4     23       10         0     5    False    22.000000  42.540000   42.859680  28.484000  69.464000\n",
      "9     15     4     23       40         0     6    False    22.000000  40.000000   41.657110  26.255754  74.498721\n",
      "10    15     4     23       55         0     7     True    23.000000  36.604137    6.788389  22.378547  76.254449\n",
      "11    18     4     23       50         0     1    False    23.000000  52.367946    2.112754  21.483070  73.537246\n",
      "12    18     4     21       55         0     3    False    25.000000  46.602052    5.550878  13.758267  75.744584\n",
      "13    18     4     18       55         0     4    False    25.000000  46.277618   38.923727  10.953890  76.063401\n",
      "14    18     4     20       55         0     5    False    25.000000  49.188345    2.451090  46.697635  76.423142\n",
      "15    18     4     23        5         0     6    False    24.000000  48.000000   21.537182  16.156984  74.101360\n",
      "16    18     4     23       30         0     7     True    25.000000  48.000000    2.267574  19.200368  73.740809\n",
      "17    23     4     21       20         0     1    False    23.000000  35.022573   23.773047  12.672686  73.787810\n",
      "18    23     4     17       50         0     3    False    25.000000  27.276856    0.971039  13.188646  75.196507\n",
      "19    23     4     17       20         0     4    False    26.000000  28.603101    5.187829  20.096124  68.448062\n",
      "20    23     4     19        0         0     5    False    24.000000  26.000000   28.012664  10.390764  74.369449\n",
      "21    23     4     19       45         0     6    False    24.000000  29.449086   28.369217  17.652742  74.125326\n",
      "22    23     4     20       30         0     7     True    25.000000  29.000000   19.905586  12.400718  74.611244\n"
     ]
    }
   ],
   "source": [
    "print(listeData.to_string())"
   ]
  },
  {
   "cell_type": "code",
   "execution_count": 54,
   "metadata": {
    "ExecuteTime": {
     "end_time": "2020-05-11T16:36:40.441492Z",
     "start_time": "2020-05-11T16:36:40.429701Z"
    }
   },
   "outputs": [
    {
     "name": "stdout",
     "output_type": "stream",
     "text": [
      "        Lieu  Temperature\n",
      "0   0.333333     0.750000\n",
      "1   0.500000     0.750000\n",
      "2   0.666667     0.500000\n",
      "3   0.833333     0.500000\n",
      "4   1.000000     0.750000\n",
      "5   0.000000     0.391061\n",
      "6   0.333333     0.250000\n",
      "7   0.500000     0.250000\n",
      "8   0.666667     0.000000\n",
      "9   0.833333     0.000000\n",
      "10  1.000000     0.250000\n",
      "11  0.000000     0.250000\n",
      "12  0.333333     0.750000\n",
      "13  0.500000     0.750000\n",
      "14  0.666667     0.750000\n",
      "15  0.833333     0.500000\n",
      "16  1.000000     0.750000\n",
      "17  0.000000     0.250000\n",
      "18  0.333333     0.750000\n",
      "19  0.500000     1.000000\n",
      "20  0.666667     0.500000\n",
      "21  0.833333     0.500000\n",
      "22  1.000000     0.750000\n"
     ]
    }
   ],
   "source": [
    "listeDataNorm = normalisation(listeData[['Lieu', 'Temperature']])\n",
    "print(listeDataNorm.to_string())"
   ]
  },
  {
   "cell_type": "code",
   "execution_count": 55,
   "metadata": {
    "ExecuteTime": {
     "end_time": "2020-05-11T16:36:40.958034Z",
     "start_time": "2020-05-11T16:36:40.941079Z"
    }
   },
   "outputs": [
    {
     "name": "stdout",
     "output_type": "stream",
     "text": [
      "{0: [Jour    11\n",
      "Lieu     3\n",
      "Name: 0, dtype: int32], 1: [Jour    11\n",
      "Lieu     4\n",
      "Name: 1, dtype: int32], 2: [Jour    11\n",
      "Lieu     5\n",
      "Name: 2, dtype: int32], 3: [Jour    11\n",
      "Lieu     6\n",
      "Name: 3, dtype: int32], 4: [Jour    11\n",
      "Lieu     7\n",
      "Name: 4, dtype: int32], 5: [Jour    12\n",
      "Lieu     1\n",
      "Name: 5, dtype: int32], 6: [Jour    15\n",
      "Lieu     3\n",
      "Name: 6, dtype: int32], 7: [Jour    15\n",
      "Lieu     4\n",
      "Name: 7, dtype: int32], 8: [Jour    15\n",
      "Lieu     5\n",
      "Name: 8, dtype: int32], 9: [Jour    15\n",
      "Lieu     6\n",
      "Name: 9, dtype: int32], 10: [Jour    15\n",
      "Lieu     7\n",
      "Name: 10, dtype: int32], 11: [Jour    18\n",
      "Lieu     1\n",
      "Name: 11, dtype: int32], 12: [Jour    18\n",
      "Lieu     3\n",
      "Name: 12, dtype: int32], 13: [Jour    18\n",
      "Lieu     4\n",
      "Name: 13, dtype: int32], 14: [Jour    18\n",
      "Lieu     5\n",
      "Name: 14, dtype: int32], 15: [Jour    18\n",
      "Lieu     6\n",
      "Name: 15, dtype: int32], 16: [Jour    18\n",
      "Lieu     7\n",
      "Name: 16, dtype: int32], 17: [Jour    23\n",
      "Lieu     1\n",
      "Name: 17, dtype: int32], 18: [Jour    23\n",
      "Lieu     3\n",
      "Name: 18, dtype: int32], 19: [Jour    23\n",
      "Lieu     4\n",
      "Name: 19, dtype: int32], 20: [Jour    23\n",
      "Lieu     5\n",
      "Name: 20, dtype: int32], 21: [Jour    23\n",
      "Lieu     6\n",
      "Name: 21, dtype: int32], 22: [Jour    23\n",
      "Lieu     7\n",
      "Name: 22, dtype: int32]}\n"
     ]
    }
   ],
   "source": [
    "lieuData = initialise(listeData[['Jour','Lieu']])\n",
    "print(lieuData)"
   ]
  },
  {
   "cell_type": "code",
   "execution_count": 56,
   "metadata": {
    "ExecuteTime": {
     "end_time": "2020-05-11T16:36:43.050032Z",
     "start_time": "2020-05-11T16:36:41.362749Z"
    }
   },
   "outputs": [
    {
     "name": "stdout",
     "output_type": "stream",
     "text": [
      "Fusion de  0  et  12 pour une distance de  0.0\n",
      "Fusion de  1  et  13 pour une distance de  0.0\n",
      "Fusion de  2  et  20 pour une distance de  0.0\n",
      "Fusion de  3  et  15 pour une distance de  0.0\n",
      "Fusion de  4  et  16 pour une distance de  0.0\n",
      "Fusion de  11  et  17 pour une distance de  0.0\n",
      "Fusion de  18  et  23 pour une distance de  0.0\n",
      "Fusion de  21  et  26 pour une distance de  0.0\n",
      "Fusion de  22  et  27 pour une distance de  0.0\n",
      "Fusion de  5  et  28 pour une distance de  0.1410614525139664\n",
      "Fusion de  14  et  24 pour une distance de  0.16666666666666663\n",
      "Fusion de  6  et  7 pour une distance de  0.16666666666666669\n",
      "Fusion de  8  et  9 pour une distance de  0.16666666666666674\n",
      "Fusion de  25  et  30 pour une distance de  0.16666666666666674\n",
      "Fusion de  29  et  33 pour une distance de  0.22222222222222215\n",
      "Fusion de  19  et  37 pour une distance de  0.3055555555555556\n",
      "Fusion de  32  et  34 pour une distance de  0.4636871508379888\n",
      "Fusion de  10  et  36 pour une distance de  0.4833333333333333\n",
      "Fusion de  31  et  40 pour une distance de  0.4861111111111112\n",
      "Fusion de  38  et  41 pour une distance de  0.6481481481481481\n",
      "Fusion de  35  et  42 pour une distance de  0.7187499999999999\n",
      "Fusion de  39  et  43 pour une distance de  0.832898820608318\n"
     ]
    },
    {
     "data": {
      "image/png": "[encoded data removed]",
      "text/plain": [
       "<Figure size 2160x1080 with 1 Axes>"
      ]
     },
     "metadata": {
      "needs_background": "light"
     },
     "output_type": "display_data"
    },
    {
     "data": {
      "text/plain": [
       "array([[ 0.        , 12.        ,  0.        ,  2.        ],\n",
       "       [ 1.        , 13.        ,  0.        ,  2.        ],\n",
       "       [ 2.        , 20.        ,  0.        ,  2.        ],\n",
       "       [ 3.        , 15.        ,  0.        ,  2.        ],\n",
       "       [ 4.        , 16.        ,  0.        ,  2.        ],\n",
       "       [11.        , 17.        ,  0.        ,  2.        ],\n",
       "       [18.        , 23.        ,  0.        ,  2.        ],\n",
       "       [21.        , 26.        ,  0.        ,  2.        ],\n",
       "       [22.        , 27.        ,  0.        ,  2.        ],\n",
       "       [ 5.        , 28.        ,  0.14106145,  2.        ],\n",
       "       [14.        , 24.        ,  0.16666667,  2.        ],\n",
       "       [ 6.        ,  7.        ,  0.16666667,  2.        ],\n",
       "       [ 8.        ,  9.        ,  0.16666667,  2.        ],\n",
       "       [25.        , 30.        ,  0.16666667,  2.        ],\n",
       "       [29.        , 33.        ,  0.22222222,  2.        ],\n",
       "       [19.        , 37.        ,  0.30555556,  2.        ],\n",
       "       [32.        , 34.        ,  0.46368715,  2.        ],\n",
       "       [10.        , 36.        ,  0.48333333,  2.        ],\n",
       "       [31.        , 40.        ,  0.48611111,  2.        ],\n",
       "       [38.        , 41.        ,  0.64814815,  2.        ],\n",
       "       [35.        , 42.        ,  0.71875   ,  2.        ],\n",
       "       [39.        , 43.        ,  0.83289882,  2.        ]])"
      ]
     },
     "execution_count": 56,
     "metadata": {},
     "output_type": "execute_result"
    }
   ],
   "source": [
    "clustering_hierarchique(listeDataNorm, 'manhattan')"
   ]
  },
  {
   "cell_type": "code",
   "execution_count": 57,
   "metadata": {
    "ExecuteTime": {
     "end_time": "2020-05-11T16:36:43.071975Z",
     "start_time": "2020-05-11T16:36:43.051030Z"
    }
   },
   "outputs": [
    {
     "name": "stdout",
     "output_type": "stream",
     "text": [
      "0  :  [Lieu           0.333333\n",
      "Temperature    0.750000\n",
      "Name: 0, dtype: float64]\n",
      "1  :  [Lieu           0.50\n",
      "Temperature    0.75\n",
      "Name: 1, dtype: float64]\n",
      "2  :  [Lieu           0.666667\n",
      "Temperature    0.500000\n",
      "Name: 2, dtype: float64]\n",
      "3  :  [Lieu           0.833333\n",
      "Temperature    0.500000\n",
      "Name: 3, dtype: float64]\n",
      "4  :  [Lieu           1.00\n",
      "Temperature    0.75\n",
      "Name: 4, dtype: float64]\n",
      "5  :  [Lieu           0.000000\n",
      "Temperature    0.391061\n",
      "Name: 5, dtype: float64]\n",
      "6  :  [Lieu           0.333333\n",
      "Temperature    0.250000\n",
      "Name: 6, dtype: float64]\n",
      "7  :  [Lieu           0.50\n",
      "Temperature    0.25\n",
      "Name: 7, dtype: float64]\n",
      "8  :  [Lieu           0.666667\n",
      "Temperature    0.000000\n",
      "Name: 8, dtype: float64]\n",
      "9  :  [Lieu           0.833333\n",
      "Temperature    0.000000\n",
      "Name: 9, dtype: float64]\n",
      "10  :  [Lieu           1.00\n",
      "Temperature    0.25\n",
      "Name: 10, dtype: float64]\n",
      "11  :  [Lieu           0.00\n",
      "Temperature    0.25\n",
      "Name: 11, dtype: float64]\n",
      "12  :  [Lieu           0.333333\n",
      "Temperature    0.750000\n",
      "Name: 12, dtype: float64]\n",
      "13  :  [Lieu           0.50\n",
      "Temperature    0.75\n",
      "Name: 13, dtype: float64]\n",
      "14  :  [Lieu           0.666667\n",
      "Temperature    0.750000\n",
      "Name: 14, dtype: float64]\n",
      "15  :  [Lieu           0.833333\n",
      "Temperature    0.500000\n",
      "Name: 15, dtype: float64]\n",
      "16  :  [Lieu           1.00\n",
      "Temperature    0.75\n",
      "Name: 16, dtype: float64]\n",
      "17  :  [Lieu           0.00\n",
      "Temperature    0.25\n",
      "Name: 17, dtype: float64]\n",
      "18  :  [Lieu           0.333333\n",
      "Temperature    0.750000\n",
      "Name: 18, dtype: float64]\n",
      "19  :  [Lieu           0.5\n",
      "Temperature    1.0\n",
      "Name: 19, dtype: float64]\n",
      "20  :  [Lieu           0.666667\n",
      "Temperature    0.500000\n",
      "Name: 20, dtype: float64]\n",
      "21  :  [Lieu           0.833333\n",
      "Temperature    0.500000\n",
      "Name: 21, dtype: float64]\n",
      "22  :  [Lieu           1.00\n",
      "Temperature    0.75\n",
      "Name: 22, dtype: float64]\n"
     ]
    }
   ],
   "source": [
    "for key, value in initialise(listeDataNorm).items():\n",
    "    print(key, ' : ', value)"
   ]
  },
  {
   "cell_type": "code",
   "execution_count": 58,
   "metadata": {
    "ExecuteTime": {
     "end_time": "2020-05-11T16:36:43.257478Z",
     "start_time": "2020-05-11T16:36:43.077957Z"
    }
   },
   "outputs": [
    {
     "data": {
      "image/png": "[encoded data removed]",
      "text/plain": [
       "<Figure size 432x288 with 1 Axes>"
      ]
     },
     "metadata": {
      "needs_background": "light"
     },
     "output_type": "display_data"
    }
   ],
   "source": [
    "sns.scatterplot(x = 'Jour',\n",
    "                y = 'Temperature',\n",
    "                data = listeData[listeData['Lieu'] == 5])\n",
    "plt.show()"
   ]
  },
  {
   "cell_type": "code",
   "execution_count": 59,
   "metadata": {
    "ExecuteTime": {
     "end_time": "2020-05-11T16:36:43.269445Z",
     "start_time": "2020-05-11T16:36:43.258474Z"
    }
   },
   "outputs": [
    {
     "data": {
      "text/html": [
       "<div>\n",
       "<style scoped>\n",
       "    .dataframe tbody tr th:only-of-type {\n",
       "        vertical-align: middle;\n",
       "    }\n",
       "\n",
       "    .dataframe tbody tr th {\n",
       "        vertical-align: top;\n",
       "    }\n",
       "\n",
       "    .dataframe thead th {\n",
       "        text-align: right;\n",
       "    }\n",
       "</style>\n",
       "<table border=\"1\" class=\"dataframe\">\n",
       "  <thead>\n",
       "    <tr style=\"text-align: right;\">\n",
       "      <th></th>\n",
       "      <th>Jour</th>\n",
       "      <th>Temperature</th>\n",
       "    </tr>\n",
       "  </thead>\n",
       "  <tbody>\n",
       "    <tr>\n",
       "      <th>2</th>\n",
       "      <td>11</td>\n",
       "      <td>24.0</td>\n",
       "    </tr>\n",
       "    <tr>\n",
       "      <th>8</th>\n",
       "      <td>15</td>\n",
       "      <td>22.0</td>\n",
       "    </tr>\n",
       "    <tr>\n",
       "      <th>14</th>\n",
       "      <td>18</td>\n",
       "      <td>25.0</td>\n",
       "    </tr>\n",
       "    <tr>\n",
       "      <th>20</th>\n",
       "      <td>23</td>\n",
       "      <td>24.0</td>\n",
       "    </tr>\n",
       "  </tbody>\n",
       "</table>\n",
       "</div>"
      ],
      "text/plain": [
       "    Jour  Temperature\n",
       "2     11         24.0\n",
       "8     15         22.0\n",
       "14    18         25.0\n",
       "20    23         24.0"
      ]
     },
     "execution_count": 59,
     "metadata": {},
     "output_type": "execute_result"
    }
   ],
   "source": [
    "listeData[['Jour', 'Temperature']].loc[listeData['Lieu'] == 5]"
   ]
  },
  {
   "cell_type": "code",
   "execution_count": 60,
   "metadata": {
    "ExecuteTime": {
     "end_time": "2020-05-11T16:36:44.110623Z",
     "start_time": "2020-05-11T16:36:43.271440Z"
    }
   },
   "outputs": [],
   "source": [
    "from sklearn.linear_model import LinearRegression"
   ]
  },
  {
   "cell_type": "code",
   "execution_count": 61,
   "metadata": {
    "ExecuteTime": {
     "end_time": "2020-05-11T16:36:44.117599Z",
     "start_time": "2020-05-11T16:36:44.112616Z"
    }
   },
   "outputs": [],
   "source": [
    "linear_model = LinearRegression(normalize=True)"
   ]
  },
  {
   "cell_type": "code",
   "execution_count": 62,
   "metadata": {
    "ExecuteTime": {
     "end_time": "2020-05-11T16:36:44.141647Z",
     "start_time": "2020-05-11T16:36:44.120595Z"
    }
   },
   "outputs": [
    {
     "data": {
      "text/plain": [
       "LinearRegression(copy_X=True, fit_intercept=True, n_jobs=None, normalize=True)"
      ]
     },
     "execution_count": 62,
     "metadata": {},
     "output_type": "execute_result"
    }
   ],
   "source": [
    "linear_model.fit(listeData[['Jour']].loc[listeData['Lieu'] == 5], listeData[['Temperature']].loc[listeData['Lieu'] == 5])"
   ]
  },
  {
   "cell_type": "code",
   "execution_count": 63,
   "metadata": {
    "ExecuteTime": {
     "end_time": "2020-05-11T16:36:44.148576Z",
     "start_time": "2020-05-11T16:36:44.142627Z"
    }
   },
   "outputs": [],
   "source": [
    "y_pred_linear = linear_model.predict(listeData[['Jour']].loc[listeData['Lieu'] == 4])"
   ]
  },
  {
   "cell_type": "code",
   "execution_count": 64,
   "metadata": {
    "ExecuteTime": {
     "end_time": "2020-05-11T16:36:45.282897Z",
     "start_time": "2020-05-11T16:36:45.276424Z"
    }
   },
   "outputs": [
    {
     "ename": "SyntaxError",
     "evalue": "invalid syntax (<ipython-input-64-d0ee5ce840cd>, line 1)",
     "output_type": "error",
     "traceback": [
      "\u001b[1;36m  File \u001b[1;32m\"<ipython-input-64-d0ee5ce840cd>\"\u001b[1;36m, line \u001b[1;32m1\u001b[0m\n\u001b[1;33m    plt.scatter(,listeData[['Temperature']].loc[listeData['Lieu'] == 5],edgecolors=(0,0,0),lw=2,s=80)\u001b[0m\n\u001b[1;37m                ^\u001b[0m\n\u001b[1;31mSyntaxError\u001b[0m\u001b[1;31m:\u001b[0m invalid syntax\n"
     ]
    }
   ],
   "source": [
    "plt.scatter(,listeData[['Temperature']].loc[listeData['Lieu'] == 5],edgecolors=(0,0,0),lw=2,s=80)\n",
    "plt.plot(listeData[['Jour']].loc[listeData['Lieu'] == 5],y_pred_linear, 'k--', lw=2)"
   ]
  },
  {
   "cell_type": "code",
   "execution_count": 65,
   "metadata": {
    "ExecuteTime": {
     "end_time": "2020-05-11T16:36:45.689102Z",
     "start_time": "2020-05-11T16:36:45.499157Z"
    }
   },
   "outputs": [
    {
     "data": {
      "text/plain": [
       "[<matplotlib.lines.Line2D at 0x1c4c1694588>]"
      ]
     },
     "execution_count": 65,
     "metadata": {},
     "output_type": "execute_result"
    },
    {
     "data": {
      "image/png": "[encoded data removed]",
      "text/plain": [
       "<Figure size 432x288 with 1 Axes>"
      ]
     },
     "metadata": {
      "needs_background": "light"
     },
     "output_type": "display_data"
    }
   ],
   "source": [
    "plt.scatter(listeData[['Jour']].loc[listeData['Lieu'] == 4],listeData[['Temperature']].loc[listeData['Lieu'] == 4],edgecolors=(0,0,0),lw=2,s=80)\n",
    "plt.plot(listeData[['Jour']].loc[listeData['Lieu'] == 4],y_pred_linear, 'k--', lw=2)"
   ]
  },
  {
   "cell_type": "code",
   "execution_count": null,
   "metadata": {},
   "outputs": [],
   "source": []
  },
  {
   "cell_type": "code",
   "execution_count": 66,
   "metadata": {
    "ExecuteTime": {
     "end_time": "2020-05-11T16:36:46.202295Z",
     "start_time": "2020-05-11T16:36:45.860172Z"
    }
   },
   "outputs": [
    {
     "data": {
      "image/png": "[encoded data removed]",
      "text/plain": [
       "<Figure size 432x288 with 1 Axes>"
      ]
     },
     "metadata": {
      "needs_background": "light"
     },
     "output_type": "display_data"
    }
   ],
   "source": [
    "sns.lineplot(x = 'Lieu',\n",
    "             y = 'Humidite',\n",
    "             data = listeData)\n",
    "plt.show()"
   ]
  },
  {
   "cell_type": "code",
   "execution_count": 67,
   "metadata": {
    "ExecuteTime": {
     "end_time": "2020-05-11T16:36:46.534024Z",
     "start_time": "2020-05-11T16:36:46.204252Z"
    }
   },
   "outputs": [
    {
     "data": {
      "image/png": "[encoded data removed]",
      "text/plain": [
       "<Figure size 432x288 with 1 Axes>"
      ]
     },
     "metadata": {
      "needs_background": "light"
     },
     "output_type": "display_data"
    }
   ],
   "source": [
    "sns.lineplot(x = 'Lieu',\n",
    "             y = 'Particules',\n",
    "             data = listeData)\n",
    "plt.show()"
   ]
  },
  {
   "cell_type": "code",
   "execution_count": 68,
   "metadata": {
    "ExecuteTime": {
     "end_time": "2020-05-11T16:36:59.581147Z",
     "start_time": "2020-05-11T16:36:59.269878Z"
    }
   },
   "outputs": [
    {
     "data": {
      "image/png": "[encoded data removed]",
      "text/plain": [
       "<Figure size 432x288 with 1 Axes>"
      ]
     },
     "metadata": {
      "needs_background": "light"
     },
     "output_type": "display_data"
    }
   ],
   "source": [
    "sns.lineplot(x = 'Lieu',\n",
    "             y = 'Qualite',\n",
    "             data = listeData)\n",
    "plt.show()"
   ]
  },
  {
   "cell_type": "code",
   "execution_count": 69,
   "metadata": {
    "ExecuteTime": {
     "end_time": "2020-05-11T16:37:00.086319Z",
     "start_time": "2020-05-11T16:36:59.719188Z"
    }
   },
   "outputs": [
    {
     "data": {
      "image/png": "[encoded data removed]",
      "text/plain": [
       "<Figure size 432x288 with 1 Axes>"
      ]
     },
     "metadata": {
      "needs_background": "light"
     },
     "output_type": "display_data"
    }
   ],
   "source": [
    "sns.lineplot(x = 'Lieu',\n",
    "             y = 'Son',\n",
    "             data = listeData)\n",
    "plt.show()"
   ]
  },
  {
   "cell_type": "code",
   "execution_count": 70,
   "metadata": {
    "ExecuteTime": {
     "end_time": "2020-05-11T16:37:00.254869Z",
     "start_time": "2020-05-11T16:37:00.089311Z"
    }
   },
   "outputs": [
    {
     "data": {
      "image/png": "[encoded data removed]",
      "text/plain": [
       "<Figure size 432x288 with 1 Axes>"
      ]
     },
     "metadata": {
      "needs_background": "light"
     },
     "output_type": "display_data"
    }
   ],
   "source": [
    "sns.scatterplot(x = 'X',\n",
    "                y = 'Y',\n",
    "                data = data_2D)\n",
    "plt.show()"
   ]
  },
  {
   "cell_type": "code",
   "execution_count": 71,
   "metadata": {
    "ExecuteTime": {
     "end_time": "2020-05-11T16:37:00.270829Z",
     "start_time": "2020-05-11T16:37:00.256865Z"
    }
   },
   "outputs": [
    {
     "data": {
      "text/html": [
       "<div>\n",
       "<style scoped>\n",
       "    .dataframe tbody tr th:only-of-type {\n",
       "        vertical-align: middle;\n",
       "    }\n",
       "\n",
       "    .dataframe tbody tr th {\n",
       "        vertical-align: top;\n",
       "    }\n",
       "\n",
       "    .dataframe thead th {\n",
       "        text-align: right;\n",
       "    }\n",
       "</style>\n",
       "<table border=\"1\" class=\"dataframe\">\n",
       "  <thead>\n",
       "    <tr style=\"text-align: right;\">\n",
       "      <th></th>\n",
       "      <th>X</th>\n",
       "      <th>Y</th>\n",
       "    </tr>\n",
       "  </thead>\n",
       "  <tbody>\n",
       "    <tr>\n",
       "      <th>0</th>\n",
       "      <td>0.0</td>\n",
       "      <td>4.0</td>\n",
       "    </tr>\n",
       "    <tr>\n",
       "      <th>1</th>\n",
       "      <td>1.0</td>\n",
       "      <td>3.5</td>\n",
       "    </tr>\n",
       "    <tr>\n",
       "      <th>2</th>\n",
       "      <td>1.0</td>\n",
       "      <td>1.0</td>\n",
       "    </tr>\n",
       "    <tr>\n",
       "      <th>3</th>\n",
       "      <td>2.0</td>\n",
       "      <td>1.0</td>\n",
       "    </tr>\n",
       "    <tr>\n",
       "      <th>4</th>\n",
       "      <td>2.0</td>\n",
       "      <td>2.0</td>\n",
       "    </tr>\n",
       "    <tr>\n",
       "      <th>5</th>\n",
       "      <td>4.0</td>\n",
       "      <td>4.0</td>\n",
       "    </tr>\n",
       "    <tr>\n",
       "      <th>6</th>\n",
       "      <td>4.0</td>\n",
       "      <td>5.0</td>\n",
       "    </tr>\n",
       "    <tr>\n",
       "      <th>7</th>\n",
       "      <td>4.0</td>\n",
       "      <td>6.0</td>\n",
       "    </tr>\n",
       "    <tr>\n",
       "      <th>8</th>\n",
       "      <td>4.5</td>\n",
       "      <td>1.0</td>\n",
       "    </tr>\n",
       "    <tr>\n",
       "      <th>9</th>\n",
       "      <td>4.5</td>\n",
       "      <td>6.0</td>\n",
       "    </tr>\n",
       "    <tr>\n",
       "      <th>10</th>\n",
       "      <td>5.0</td>\n",
       "      <td>1.0</td>\n",
       "    </tr>\n",
       "    <tr>\n",
       "      <th>11</th>\n",
       "      <td>5.0</td>\n",
       "      <td>5.0</td>\n",
       "    </tr>\n",
       "    <tr>\n",
       "      <th>12</th>\n",
       "      <td>6.0</td>\n",
       "      <td>2.0</td>\n",
       "    </tr>\n",
       "    <tr>\n",
       "      <th>13</th>\n",
       "      <td>7.0</td>\n",
       "      <td>4.0</td>\n",
       "    </tr>\n",
       "  </tbody>\n",
       "</table>\n",
       "</div>"
      ],
      "text/plain": [
       "      X    Y\n",
       "0   0.0  4.0\n",
       "1   1.0  3.5\n",
       "2   1.0  1.0\n",
       "3   2.0  1.0\n",
       "4   2.0  2.0\n",
       "5   4.0  4.0\n",
       "6   4.0  5.0\n",
       "7   4.0  6.0\n",
       "8   4.5  1.0\n",
       "9   4.5  6.0\n",
       "10  5.0  1.0\n",
       "11  5.0  5.0\n",
       "12  6.0  2.0\n",
       "13  7.0  4.0"
      ]
     },
     "execution_count": 71,
     "metadata": {},
     "output_type": "execute_result"
    }
   ],
   "source": [
    "data_2D"
   ]
  },
  {
   "cell_type": "markdown",
   "metadata": {},
   "source": [
    "$$\\sum_n x_i$$"
   ]
  },
  {
   "cell_type": "code",
   "execution_count": 72,
   "metadata": {
    "ExecuteTime": {
     "end_time": "2020-05-11T16:37:00.453336Z",
     "start_time": "2020-05-11T16:37:00.447355Z"
    }
   },
   "outputs": [
    {
     "data": {
      "text/plain": [
       "50.0"
      ]
     },
     "execution_count": 72,
     "metadata": {},
     "output_type": "execute_result"
    }
   ],
   "source": [
    "data_2D.X.sum()"
   ]
  },
  {
   "cell_type": "markdown",
   "metadata": {},
   "source": [
    "$$\\sum_n y_i$$"
   ]
  },
  {
   "cell_type": "code",
   "execution_count": 73,
   "metadata": {
    "ExecuteTime": {
     "end_time": "2020-05-11T16:37:00.844574Z",
     "start_time": "2020-05-11T16:37:00.840584Z"
    }
   },
   "outputs": [
    {
     "data": {
      "text/plain": [
       "45.5"
      ]
     },
     "execution_count": 73,
     "metadata": {},
     "output_type": "execute_result"
    }
   ],
   "source": [
    "data_2D.Y.sum()"
   ]
  },
  {
   "cell_type": "markdown",
   "metadata": {},
   "source": [
    "$$\\sum_n x_i^2$$"
   ]
  },
  {
   "cell_type": "code",
   "execution_count": 74,
   "metadata": {
    "ExecuteTime": {
     "end_time": "2020-05-11T16:37:01.245023Z",
     "start_time": "2020-05-11T16:37:01.240037Z"
    }
   },
   "outputs": [
    {
     "data": {
      "text/plain": [
       "0      0.00\n",
       "1      1.00\n",
       "2      1.00\n",
       "3      4.00\n",
       "4      4.00\n",
       "5     16.00\n",
       "6     16.00\n",
       "7     16.00\n",
       "8     20.25\n",
       "9     20.25\n",
       "10    25.00\n",
       "11    25.00\n",
       "12    36.00\n",
       "13    49.00\n",
       "Name: X, dtype: float64"
      ]
     },
     "execution_count": 74,
     "metadata": {},
     "output_type": "execute_result"
    }
   ],
   "source": [
    "np.square(data_2D.X)"
   ]
  },
  {
   "cell_type": "code",
   "execution_count": 75,
   "metadata": {
    "ExecuteTime": {
     "end_time": "2020-05-11T16:37:01.433376Z",
     "start_time": "2020-05-11T16:37:01.427393Z"
    }
   },
   "outputs": [
    {
     "data": {
      "text/plain": [
       "233.5"
      ]
     },
     "execution_count": 75,
     "metadata": {},
     "output_type": "execute_result"
    }
   ],
   "source": [
    "np.square(data_2D.X).sum()"
   ]
  },
  {
   "cell_type": "markdown",
   "metadata": {},
   "source": [
    "$$\\sum_n x_i^3$$"
   ]
  },
  {
   "cell_type": "code",
   "execution_count": 76,
   "metadata": {
    "ExecuteTime": {
     "end_time": "2020-05-11T16:37:01.797218Z",
     "start_time": "2020-05-11T16:37:01.791235Z"
    }
   },
   "outputs": [
    {
     "data": {
      "text/plain": [
       "0       0.000\n",
       "1       1.000\n",
       "2       1.000\n",
       "3       8.000\n",
       "4       8.000\n",
       "5      64.000\n",
       "6      64.000\n",
       "7      64.000\n",
       "8      91.125\n",
       "9      91.125\n",
       "10    125.000\n",
       "11    125.000\n",
       "12    216.000\n",
       "13    343.000\n",
       "Name: X, dtype: float64"
      ]
     },
     "execution_count": 76,
     "metadata": {},
     "output_type": "execute_result"
    }
   ],
   "source": [
    "np.power(data_2D.X, 3)"
   ]
  },
  {
   "cell_type": "code",
   "execution_count": 77,
   "metadata": {
    "ExecuteTime": {
     "end_time": "2020-05-11T16:37:02.004504Z",
     "start_time": "2020-05-11T16:37:01.997486Z"
    }
   },
   "outputs": [
    {
     "data": {
      "text/plain": [
       "1201.25"
      ]
     },
     "execution_count": 77,
     "metadata": {},
     "output_type": "execute_result"
    }
   ],
   "source": [
    "np.power(data_2D.X, 3).sum()"
   ]
  },
  {
   "cell_type": "markdown",
   "metadata": {},
   "source": [
    "$$\\sum_n x_i^4$$"
   ]
  },
  {
   "cell_type": "code",
   "execution_count": 78,
   "metadata": {
    "ExecuteTime": {
     "end_time": "2020-05-11T16:37:02.382379Z",
     "start_time": "2020-05-11T16:37:02.376435Z"
    }
   },
   "outputs": [
    {
     "data": {
      "text/plain": [
       "0        0.0000\n",
       "1        1.0000\n",
       "2        1.0000\n",
       "3       16.0000\n",
       "4       16.0000\n",
       "5      256.0000\n",
       "6      256.0000\n",
       "7      256.0000\n",
       "8      410.0625\n",
       "9      410.0625\n",
       "10     625.0000\n",
       "11     625.0000\n",
       "12    1296.0000\n",
       "13    2401.0000\n",
       "Name: X, dtype: float64"
      ]
     },
     "execution_count": 78,
     "metadata": {},
     "output_type": "execute_result"
    }
   ],
   "source": [
    "np.power(data_2D.X, 4)"
   ]
  },
  {
   "cell_type": "code",
   "execution_count": 79,
   "metadata": {
    "ExecuteTime": {
     "end_time": "2020-05-11T16:37:02.592113Z",
     "start_time": "2020-05-11T16:37:02.586125Z"
    }
   },
   "outputs": [
    {
     "data": {
      "text/plain": [
       "6569.125"
      ]
     },
     "execution_count": 79,
     "metadata": {},
     "output_type": "execute_result"
    }
   ],
   "source": [
    "np.power(data_2D.X, 4).sum()"
   ]
  },
  {
   "cell_type": "markdown",
   "metadata": {},
   "source": [
    "$$\\sum_n x_iy_i$$"
   ]
  },
  {
   "cell_type": "code",
   "execution_count": 80,
   "metadata": {
    "ExecuteTime": {
     "end_time": "2020-05-11T16:37:03.066173Z",
     "start_time": "2020-05-11T16:37:03.059190Z"
    }
   },
   "outputs": [
    {
     "data": {
      "text/plain": [
       "0      0.0\n",
       "1      3.5\n",
       "2      1.0\n",
       "3      2.0\n",
       "4      4.0\n",
       "5     16.0\n",
       "6     20.0\n",
       "7     24.0\n",
       "8      4.5\n",
       "9     27.0\n",
       "10     5.0\n",
       "11    25.0\n",
       "12    12.0\n",
       "13    28.0\n",
       "dtype: float64"
      ]
     },
     "execution_count": 80,
     "metadata": {},
     "output_type": "execute_result"
    }
   ],
   "source": [
    "data_2D.prod(axis=1)"
   ]
  },
  {
   "cell_type": "code",
   "execution_count": 81,
   "metadata": {
    "ExecuteTime": {
     "end_time": "2020-05-11T16:37:03.285077Z",
     "start_time": "2020-05-11T16:37:03.278562Z"
    }
   },
   "outputs": [
    {
     "data": {
      "text/plain": [
       "172.0"
      ]
     },
     "execution_count": 81,
     "metadata": {},
     "output_type": "execute_result"
    }
   ],
   "source": [
    "data_2D.prod(axis=1).sum()"
   ]
  },
  {
   "cell_type": "markdown",
   "metadata": {},
   "source": [
    "$$\\sum_n x_i^2y_i$$"
   ]
  },
  {
   "cell_type": "code",
   "execution_count": 82,
   "metadata": {
    "ExecuteTime": {
     "end_time": "2020-05-11T16:37:03.778564Z",
     "start_time": "2020-05-11T16:37:03.771611Z"
    }
   },
   "outputs": [
    {
     "data": {
      "text/plain": [
       "0       0.00\n",
       "1       3.50\n",
       "2       1.00\n",
       "3       4.00\n",
       "4       8.00\n",
       "5      64.00\n",
       "6      80.00\n",
       "7      96.00\n",
       "8      20.25\n",
       "9     121.50\n",
       "10     25.00\n",
       "11    125.00\n",
       "12     72.00\n",
       "13    196.00\n",
       "dtype: float64"
      ]
     },
     "execution_count": 82,
     "metadata": {},
     "output_type": "execute_result"
    }
   ],
   "source": [
    "np.square(data_2D.X).multiply(data_2D.Y)"
   ]
  },
  {
   "cell_type": "code",
   "execution_count": 83,
   "metadata": {
    "ExecuteTime": {
     "end_time": "2020-05-11T16:37:06.248770Z",
     "start_time": "2020-05-11T16:37:06.241823Z"
    }
   },
   "outputs": [
    {
     "data": {
      "text/plain": [
       "816.25"
      ]
     },
     "execution_count": 83,
     "metadata": {},
     "output_type": "execute_result"
    }
   ],
   "source": [
    "np.square(data_2D.X).multiply(data_2D.Y).sum()"
   ]
  },
  {
   "cell_type": "markdown",
   "metadata": {},
   "source": [
    "$$\n",
    "\\begin{equation}\n",
    "  \\left\\{\n",
    "      \\begin{aligned}\n",
    "        \\sum_n y_i = nB_0 + B_1\\sum_n x_i + B_2\\sum_n x_i^2 \\\\\n",
    "        \\sum_n x_iy_i = B_0\\sum_n x_i + B_1\\sum_n x_i^2 + B_2\\sum_n x_i^3\\\\\n",
    "        \\sum_n x_i^2y_i = B_0\\sum_n x_i^2 + B_1\\sum_n x_i^3 + B_1\\sum_n x_i^4\n",
    "      \\end{aligned}\n",
    "    \\right.\n",
    "\\end{equation}\n",
    "$$"
   ]
  },
  {
   "cell_type": "code",
   "execution_count": 84,
   "metadata": {
    "ExecuteTime": {
     "end_time": "2020-05-11T16:37:06.709337Z",
     "start_time": "2020-05-11T16:37:06.699364Z"
    }
   },
   "outputs": [],
   "source": [
    "values = np.array([data_2D.Y.sum(), data_2D.prod(axis=1).sum(), np.square(data_2D.X).multiply(data_2D.Y).sum()])\n",
    "coefs = np.array([[data_2D.shape[0], data_2D.X.sum(), np.square(data_2D.X).sum()], \n",
    "                  [data_2D.X.sum(), np.square(data_2D.X).sum(), np.power(data_2D.X, 3).sum()],\n",
    "                  [np.square(data_2D.X).sum(), np.power(data_2D.X, 3).sum(), np.power(data_2D.X, 4).sum()]])"
   ]
  },
  {
   "cell_type": "code",
   "execution_count": 85,
   "metadata": {
    "ExecuteTime": {
     "end_time": "2020-05-11T16:37:06.872342Z",
     "start_time": "2020-05-11T16:37:06.866393Z"
    }
   },
   "outputs": [
    {
     "data": {
      "text/plain": [
       "array([ 2.42922401,  0.36146212, -0.02818947])"
      ]
     },
     "execution_count": 85,
     "metadata": {},
     "output_type": "execute_result"
    }
   ],
   "source": [
    "res = np.linalg.solve(coefs, values)\n",
    "res"
   ]
  },
  {
   "cell_type": "code",
   "execution_count": 86,
   "metadata": {
    "ExecuteTime": {
     "end_time": "2020-05-11T16:37:07.093622Z",
     "start_time": "2020-05-11T16:37:07.087636Z"
    }
   },
   "outputs": [
    {
     "data": {
      "text/plain": [
       "45.5"
      ]
     },
     "execution_count": 86,
     "metadata": {},
     "output_type": "execute_result"
    }
   ],
   "source": [
    "res[0]*14 + res[1]*50 + res[2]*233.5"
   ]
  },
  {
   "cell_type": "code",
   "execution_count": 87,
   "metadata": {
    "ExecuteTime": {
     "end_time": "2020-05-11T16:37:07.306412Z",
     "start_time": "2020-05-11T16:37:07.300429Z"
    }
   },
   "outputs": [
    {
     "data": {
      "text/plain": [
       "172.0"
      ]
     },
     "execution_count": 87,
     "metadata": {},
     "output_type": "execute_result"
    }
   ],
   "source": [
    "res[0]*50 + res[1]*233.5 + res[2]*1201.25"
   ]
  },
  {
   "cell_type": "code",
   "execution_count": 88,
   "metadata": {
    "ExecuteTime": {
     "end_time": "2020-05-11T16:37:07.506700Z",
     "start_time": "2020-05-11T16:37:07.500754Z"
    },
    "scrolled": true
   },
   "outputs": [
    {
     "data": {
      "text/plain": [
       "816.2500000000001"
      ]
     },
     "execution_count": 88,
     "metadata": {},
     "output_type": "execute_result"
    }
   ],
   "source": [
    "res[0]* 233.5 + res[1]* 1201.25 + res[2]*6569.125"
   ]
  },
  {
   "cell_type": "code",
   "execution_count": 89,
   "metadata": {
    "ExecuteTime": {
     "end_time": "2020-05-11T16:37:07.711879Z",
     "start_time": "2020-05-11T16:37:07.703346Z"
    }
   },
   "outputs": [],
   "source": [
    "def coef_poly(df):\n",
    "    if df.shape[1] != 2:\n",
    "        return\n",
    "    df.columns = ['X', 'Y']\n",
    "    sx = df.X.sum()\n",
    "    sx2 = np.square(df.X).sum()\n",
    "    sx3 = np.power(df.X, 3).sum()\n",
    "    values = np.array([df.Y.sum(), df.prod(axis=1).sum(), np.square(df.X).multiply(df.Y).sum()])\n",
    "    coefs = np.array([[df.shape[0], sx, sx2], \n",
    "                      [sx, sx2, sx3],\n",
    "                      [sx2, sx3, np.power(df.X, 4).sum()]])\n",
    "    return np.linalg.solve(coefs, values)"
   ]
  },
  {
   "cell_type": "markdown",
   "metadata": {},
   "source": [
    "$$a = \\frac{cov(X, Y)}{V(X)}$$\n",
    "  \n",
    "$$b = \\bar{y} - a\\bar{x}$$"
   ]
  },
  {
   "cell_type": "code",
   "execution_count": 90,
   "metadata": {
    "ExecuteTime": {
     "end_time": "2020-05-11T16:37:08.108368Z",
     "start_time": "2020-05-11T16:37:08.103354Z"
    }
   },
   "outputs": [],
   "source": [
    "def coef_linea(df):\n",
    "    if df.shape[1] != 2:\n",
    "        return\n",
    "    df.columns = ['X', 'Y']\n",
    "    a = df.cov().X.iloc[1] / df.X.var()\n",
    "    b = df.Y.mean() - a*df.X.mean()\n",
    "    return [b,a]"
   ]
  },
  {
   "cell_type": "code",
   "execution_count": 91,
   "metadata": {
    "ExecuteTime": {
     "end_time": "2020-05-11T16:37:08.363662Z",
     "start_time": "2020-05-11T16:37:08.357686Z"
    }
   },
   "outputs": [],
   "source": [
    "def regress_poly(df, X):\n",
    "    if df.shape[1] != 2:\n",
    "        return\n",
    "    df.columns = ['X', 'Y']\n",
    "    res = coef_poly(df)\n",
    "    return list(map(lambda x: res[0] + res[1]*x + res[2]*x**2, X))"
   ]
  },
  {
   "cell_type": "code",
   "execution_count": 92,
   "metadata": {
    "ExecuteTime": {
     "end_time": "2020-05-11T16:37:09.016826Z",
     "start_time": "2020-05-11T16:37:09.008850Z"
    }
   },
   "outputs": [
    {
     "data": {
      "text/plain": [
       "[2.4292240094890705,\n",
       " 2.7624966586474207,\n",
       " 3.0393903585876294,\n",
       " 3.259905109309696,\n",
       " 3.4240409108136216,\n",
       " 3.5317977630994046,\n",
       " 3.5831756661670457,\n",
       " 3.5781746200165463,\n",
       " 3.516794624647905,\n",
       " 3.3990356800611212,\n",
       " 3.224897786256196,\n",
       " 2.9943809432331294,\n",
       " 2.7074851509919204,\n",
       " 2.3642104095325713,\n",
       " 1.9645567188550785,\n",
       " 1.5085240789594456,\n",
       " 0.996112489845669,\n",
       " 0.4273219515137523,\n",
       " -0.19784753603630634,\n",
       " -0.879395972804506]"
      ]
     },
     "execution_count": 92,
     "metadata": {},
     "output_type": "execute_result"
    }
   ],
   "source": [
    "regress_poly(data_2D, list(range(20)))"
   ]
  },
  {
   "cell_type": "code",
   "execution_count": 93,
   "metadata": {
    "ExecuteTime": {
     "end_time": "2020-05-11T16:37:09.793982Z",
     "start_time": "2020-05-11T16:37:09.611445Z"
    }
   },
   "outputs": [
    {
     "data": {
      "image/png": "[encoded data removed]",
      "text/plain": [
       "<Figure size 432x288 with 1 Axes>"
      ]
     },
     "metadata": {
      "needs_background": "light"
     },
     "output_type": "display_data"
    }
   ],
   "source": [
    "sns.scatterplot(x = 'X',\n",
    "                y = 'Y',\n",
    "                data = data_2D)\n",
    "\n",
    "sns.lineplot(x = list(range(20)), \n",
    "             y = regress_poly(data_2D, list(range(20))))\n",
    "plt.show()"
   ]
  },
  {
   "cell_type": "code",
   "execution_count": 105,
   "metadata": {
    "ExecuteTime": {
     "end_time": "2020-05-11T16:39:03.193168Z",
     "start_time": "2020-05-11T16:39:03.004672Z"
    }
   },
   "outputs": [
    {
     "data": {
      "image/png": "[encoded data removed]",
      "text/plain": [
       "<Figure size 432x288 with 1 Axes>"
      ]
     },
     "metadata": {
      "needs_background": "light"
     },
     "output_type": "display_data"
    }
   ],
   "source": [
    "sns.scatterplot(x = 'Jour',\n",
    "                y = 'Qualite',\n",
    "                data = listeData.loc[listeData['Lieu'] == 4])\n",
    "\n",
    "sns.lineplot(x = list(range(11, 25)), \n",
    "             y = regress_poly(listeData[['Jour', 'Qualite']].loc[listeData['Lieu'] == 4], list(range(11, 25))))\n",
    "plt.show()"
   ]
  },
  {
   "cell_type": "code",
   "execution_count": 106,
   "metadata": {
    "ExecuteTime": {
     "end_time": "2020-05-11T16:39:56.872095Z",
     "start_time": "2020-05-11T16:39:56.862120Z"
    }
   },
   "outputs": [
    {
     "data": {
      "text/plain": [
       "11.00412923848425"
      ]
     },
     "execution_count": 106,
     "metadata": {},
     "output_type": "execute_result"
    }
   ],
   "source": [
    "regress_poly(listeData[['Jour', 'Qualite']].loc[listeData['Lieu'] == 4], [16])[0]"
   ]
  },
  {
   "cell_type": "code",
   "execution_count": 95,
   "metadata": {
    "ExecuteTime": {
     "end_time": "2020-05-11T16:37:14.385018Z",
     "start_time": "2020-05-11T16:37:14.380031Z"
    }
   },
   "outputs": [],
   "source": [
    "def regress_linea(df, X):\n",
    "    if df.shape[1] != 2:\n",
    "        return\n",
    "    df.columns = ['X', 'Y']\n",
    "    res = coef_linea(df)\n",
    "    return list(map(lambda x: res[0] + res[1]*x , X))"
   ]
  },
  {
   "cell_type": "code",
   "execution_count": 96,
   "metadata": {
    "ExecuteTime": {
     "end_time": "2020-05-11T16:37:14.837733Z",
     "start_time": "2020-05-11T16:37:14.832748Z"
    }
   },
   "outputs": [
    {
     "data": {
      "text/plain": [
       "4.225274725274725"
      ]
     },
     "execution_count": 96,
     "metadata": {},
     "output_type": "execute_result"
    }
   ],
   "source": [
    "data_2D.X.var()"
   ]
  },
  {
   "cell_type": "code",
   "execution_count": 97,
   "metadata": {
    "ExecuteTime": {
     "end_time": "2020-05-11T16:37:15.283979Z",
     "start_time": "2020-05-11T16:37:15.099284Z"
    }
   },
   "outputs": [
    {
     "data": {
      "image/png": "[encoded data removed]",
      "text/plain": [
       "<Figure size 432x288 with 1 Axes>"
      ]
     },
     "metadata": {
      "needs_background": "light"
     },
     "output_type": "display_data"
    }
   ],
   "source": [
    "sns.scatterplot(x = 'Jour',\n",
    "                y = 'Temperature',\n",
    "                data = listeData.loc[listeData['Lieu'] == 4])\n",
    "\n",
    "sns.lineplot(x = list(range(11, 25)), \n",
    "             y = regress_linea(listeData[['Jour', 'Temperature']].loc[listeData['Lieu'] == 4], list(range(11, 25))))\n",
    "plt.show()"
   ]
  },
  {
   "cell_type": "markdown",
   "metadata": {},
   "source": [
    "Coefficients de détermination"
   ]
  },
  {
   "cell_type": "code",
   "execution_count": 98,
   "metadata": {
    "ExecuteTime": {
     "end_time": "2020-05-11T16:37:17.352272Z",
     "start_time": "2020-05-11T16:37:17.346290Z"
    }
   },
   "outputs": [],
   "source": [
    "def linea_deter(df):\n",
    "    if df.shape[1] != 2:\n",
    "        return\n",
    "    df.columns = ['X', 'Y']\n",
    "    res = coef_linea(df)\n",
    "    SYY = ((df.Y - df.Y.mean())**2).sum()\n",
    "    # somme des carrés des résidus\n",
    "    SR = ((df.Y - res[0] - res[1]*df.X)**2).sum()\n",
    "    return 1 - SR/SYY"
   ]
  },
  {
   "cell_type": "code",
   "execution_count": 99,
   "metadata": {
    "ExecuteTime": {
     "end_time": "2020-05-11T16:37:17.555610Z",
     "start_time": "2020-05-11T16:37:17.541650Z"
    }
   },
   "outputs": [
    {
     "data": {
      "text/plain": [
       "0.26075775758614783"
      ]
     },
     "execution_count": 99,
     "metadata": {},
     "output_type": "execute_result"
    }
   ],
   "source": [
    "linea_deter(listeData[['Jour', 'Temperature']].loc[listeData['Lieu'] == 4])"
   ]
  },
  {
   "cell_type": "code",
   "execution_count": 100,
   "metadata": {
    "ExecuteTime": {
     "end_time": "2020-05-11T16:37:17.728212Z",
     "start_time": "2020-05-11T16:37:17.722227Z"
    }
   },
   "outputs": [],
   "source": [
    "def poly_deter(df):\n",
    "    if df.shape[1] != 2:\n",
    "        return\n",
    "    df.columns = ['X', 'Y']\n",
    "    res = coef_poly(df)\n",
    "    SR = ((df.Y - res[0] - res[1]*df.X - res[2]*df.X**2)**2).sum()\n",
    "    SYY = ((df.Y - df.Y.mean())**2).sum()\n",
    "    return 1 - SR/SYY"
   ]
  },
  {
   "cell_type": "code",
   "execution_count": 101,
   "metadata": {
    "ExecuteTime": {
     "end_time": "2020-05-11T16:37:17.935730Z",
     "start_time": "2020-05-11T16:37:17.924731Z"
    }
   },
   "outputs": [
    {
     "data": {
      "text/plain": [
       "0.6515517317062461"
      ]
     },
     "execution_count": 101,
     "metadata": {},
     "output_type": "execute_result"
    }
   ],
   "source": [
    "poly_deter(listeData[['Jour', 'Temperature']].loc[listeData['Lieu'] == 4])"
   ]
  },
  {
   "cell_type": "code",
   "execution_count": null,
   "metadata": {},
   "outputs": [],
   "source": []
  }
 ],
 "metadata": {
  "kernelspec": {
   "display_name": "Python 3",
   "language": "python",
   "name": "python3"
  },
  "language_info": {
   "codemirror_mode": {
    "name": "ipython",
    "version": 3
   },
   "file_extension": ".py",
   "mimetype": "text/x-python",
   "name": "python",
   "nbconvert_exporter": "python",
   "pygments_lexer": "ipython3",
   "version": "3.7.4"
  },
  "toc": {
   "base_numbering": 1,
   "nav_menu": {},
   "number_sections": true,
   "sideBar": true,
   "skip_h1_title": false,
   "title_cell": "Table of Contents",
   "title_sidebar": "Contents",
   "toc_cell": false,
   "toc_position": {},
   "toc_section_display": true,
   "toc_window_display": false
  }
 },
 "nbformat": 4,
 "nbformat_minor": 2
}
